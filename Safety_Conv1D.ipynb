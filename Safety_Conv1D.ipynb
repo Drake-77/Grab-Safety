{
 "cells": [
  {
   "cell_type": "code",
   "execution_count": 1,
   "metadata": {},
   "outputs": [
    {
     "name": "stderr",
     "output_type": "stream",
     "text": [
      "Using TensorFlow backend.\n"
     ]
    }
   ],
   "source": [
    "import pandas as pd\n",
    "import os\n",
    "import numpy as np \n",
    "import seaborn as sns\n",
    "import plotly.graph_objs as go\n",
    "from plotly.offline import download_plotlyjs, init_notebook_mode, plot, iplot\n",
    "import sys\n",
    "import cufflinks as cf\n",
    "import matplotlib.pyplot as plt\n",
    "import re\n",
    "from keras.models import Sequential\n",
    "from keras.layers import Dense\n",
    "from keras.layers import LSTM\n",
    "from keras.layers import Conv1D, MaxPooling1D\n",
    "from sklearn.neighbors import KNeighborsClassifier\n",
    "from sklearn.preprocessing import MinMaxScaler\n",
    "from sklearn.preprocessing import StandardScaler\n",
    "from sklearn.decomposition import PCA\n",
    "from sklearn.metrics import mean_squared_error\n",
    "from keras.layers import Dropout\n",
    "from keras.layers import Flatten\n",
    "from sklearn import metrics"
   ]
  },
  {
   "cell_type": "code",
   "execution_count": 2,
   "metadata": {},
   "outputs": [
    {
     "data": {
      "text/html": [
       "        <script type=\"text/javascript\">\n",
       "        window.PlotlyConfig = {MathJaxConfig: 'local'};\n",
       "        if (window.MathJax) {MathJax.Hub.Config({SVG: {font: \"STIX-Web\"}});}\n",
       "        if (typeof require !== 'undefined') {\n",
       "        require.undef(\"plotly\");\n",
       "        requirejs.config({\n",
       "            paths: {\n",
       "                'plotly': ['https://cdn.plot.ly/plotly-latest.min']\n",
       "            }\n",
       "        });\n",
       "        require(['plotly'], function(Plotly) {\n",
       "            window._Plotly = Plotly;\n",
       "        });\n",
       "        }\n",
       "        </script>\n",
       "        "
      ]
     },
     "metadata": {},
     "output_type": "display_data"
    },
    {
     "data": {
      "text/html": [
       "        <script type=\"text/javascript\">\n",
       "        window.PlotlyConfig = {MathJaxConfig: 'local'};\n",
       "        if (window.MathJax) {MathJax.Hub.Config({SVG: {font: \"STIX-Web\"}});}\n",
       "        if (typeof require !== 'undefined') {\n",
       "        require.undef(\"plotly\");\n",
       "        requirejs.config({\n",
       "            paths: {\n",
       "                'plotly': ['https://cdn.plot.ly/plotly-latest.min']\n",
       "            }\n",
       "        });\n",
       "        require(['plotly'], function(Plotly) {\n",
       "            window._Plotly = Plotly;\n",
       "        });\n",
       "        }\n",
       "        </script>\n",
       "        "
      ]
     },
     "metadata": {},
     "output_type": "display_data"
    }
   ],
   "source": [
    "# For Notebooks\n",
    "init_notebook_mode(connected=True)\n",
    "# For offline use\n",
    "cf.go_offline(connected=True)\n",
    "\n",
    "#--NotebookApp.iopub_msg_rate_limit = 500"
   ]
  },
  {
   "cell_type": "code",
   "execution_count": 3,
   "metadata": {},
   "outputs": [],
   "source": [
    "path = 'C:\\\\Users\\\\Seagate\\\\Documents\\\\Python Scripts\\\\Codes\\\\Koh\\\\Grab\\\\Data\\\\safety\\\\features'\n",
    "os.chdir(path)"
   ]
  },
  {
   "cell_type": "code",
   "execution_count": 4,
   "metadata": {},
   "outputs": [],
   "source": [
    "def list_files(prefix):\n",
    "    files = []\n",
    "    regex = re.compile(prefix + '.*') #String matching\n",
    "    for file in os.listdir(): #Extract all file in the directroy\n",
    "        if regex.match(file): #Match the file based on the regex\n",
    "            if file[-4:] == '.csv': #Ensure it is in csv format\n",
    "                files.append(file) #Append the file to files\n",
    "                \n",
    "    return files"
   ]
  },
  {
   "cell_type": "code",
   "execution_count": 5,
   "metadata": {},
   "outputs": [],
   "source": [
    "def concat(files):\n",
    "    dflist = []\n",
    "    for file in files:\n",
    "        df = pd.read_csv(file, sep=',', header = 0)\n",
    "        dflist.append(df)\n",
    "\n",
    "    concatdf = pd.concat(dflist, axis = 0, ignore_index = True)\n",
    "    \n",
    "    return concatdf"
   ]
  },
  {
   "cell_type": "code",
   "execution_count": 6,
   "metadata": {},
   "outputs": [],
   "source": [
    "def Labeling_dataset(df_feature_0, df_label):\n",
    "    \n",
    "    booking_unique = df_feature_0['bookingID'].unique().tolist()\n",
    "    df_feature_0_copy = df_feature_0.copy()\n",
    "    df = pd.DataFrame(columns = df_feature_0_copy.columns)\n",
    "\n",
    "    for i in booking_unique:\n",
    "        df_label_unique = df_label[df_label['bookingID']==i]\n",
    "        df_label_value = df_label_unique['label'].values\n",
    "\n",
    "        df_feature = df_feature_0_copy[df_feature_0_copy['bookingID']==i]\n",
    "        df_feature['label'] = df_label_value[0]\n",
    "\n",
    "        df = pd.concat([df, df_feature])\n",
    "\n",
    "    df = df[['bookingID', 'Accuracy', 'Bearing', 'Speed', 'acceleration_x', 'acceleration_y',\n",
    "                         'acceleration_z', 'gyro_x', 'gyro_y', 'gyro_z', 'second', 'label']]\n",
    "\n",
    "    df = df.sort_index()\n",
    "\n",
    "    return df\n",
    "#df.to_csv('Feature_Extracted.csv')"
   ]
  },
  {
   "cell_type": "code",
   "execution_count": 7,
   "metadata": {},
   "outputs": [],
   "source": [
    "def feature_extraction(df):\n",
    "    \n",
    "    df_feature = df.iloc[:, 1:11]\n",
    "    data = df_feature.values\n",
    "    data_label = df.label.values\n",
    "    \n",
    "    return data, data_label"
   ]
  },
  {
   "cell_type": "code",
   "execution_count": 8,
   "metadata": {},
   "outputs": [],
   "source": [
    "def reduce_feature_dimensionality_extraction(df):\n",
    "    \n",
    "    # Reduce Dimensionality of acceleration and Gyro\n",
    "    df_feature = df.iloc[:, 1:11]\n",
    "    df_feature_acc = df.iloc[:, 4:7]\n",
    "    df_feature_gyro = df.iloc[:, 7:10]\n",
    "\n",
    "    pca = PCA(n_components = 1)\n",
    "    pca.fit(df_feature_acc)\n",
    "    data_acc = pca.transform(df_feature_acc)\n",
    "\n",
    "    pca = PCA(n_components = 1)\n",
    "    pca.fit(df_feature_gyro)\n",
    "    data_gy = pca.transform(df_feature_gyro)\n",
    "\n",
    "    df_feature['Acc_pca'] = data_acc\n",
    "    df_feature['Gyro_pca'] = data_gy\n",
    "\n",
    "    df_feature_new = df_feature.drop(['acceleration_x', 'acceleration_y', 'acceleration_z', 'gyro_x', 'gyro_y', 'gyro_z'], axis = 1)\n",
    "    \n",
    "    data = df_feature_new.values\n",
    "    data_label = df.label.values\n",
    "    \n",
    "    return data, data_label"
   ]
  },
  {
   "cell_type": "code",
   "execution_count": 9,
   "metadata": {},
   "outputs": [],
   "source": [
    "np.random.seed(42)"
   ]
  },
  {
   "cell_type": "code",
   "execution_count": 10,
   "metadata": {},
   "outputs": [],
   "source": [
    "def standardscaler(data):\n",
    "    \n",
    "    sc = StandardScaler() # StandardScaler lib\n",
    "    data = sc.fit_transform(data) # fit & transform data based on standard scaler\n",
    "    \n",
    "    return data"
   ]
  },
  {
   "cell_type": "code",
   "execution_count": 11,
   "metadata": {},
   "outputs": [],
   "source": [
    "def MinMaxscaler(data):\n",
    "    \n",
    "    M_sc = MinMaxScaler() # StandardScaler lib\n",
    "    data = M_sc.fit_transform(data) # fit & transform data based on standard scaler\n",
    "    \n",
    "    return data"
   ]
  },
  {
   "cell_type": "code",
   "execution_count": 12,
   "metadata": {},
   "outputs": [],
   "source": [
    "def train_test_split(data, data_label):\n",
    "\n",
    "    train_size = int(len(data) * 0.67)\n",
    "    test_size = len(data) - train_size\n",
    "    train, test = data[0:train_size,:], data[train_size:len(data),:]\n",
    "    #print(len(train), len(test))\n",
    "\n",
    "    train_size_label = int(len(data_label) * 0.67)\n",
    "    test_size_label = len(data_label) - train_size_label\n",
    "    train_label, test_label = data_label[0:train_size_label], data_label[train_size_label:len(data_label)]\n",
    "    #print(len(train_label), len(test_label))\n",
    "    \n",
    "    return train, test, train_label, test_label"
   ]
  },
  {
   "cell_type": "code",
   "execution_count": 13,
   "metadata": {},
   "outputs": [],
   "source": [
    "def reshape(trainX, testX):\n",
    "    \n",
    "    # reshape input to be [samples, time steps, features]\n",
    "    trainX = trainX.reshape((trainX.shape[0], 1, trainX.shape[1]))\n",
    "    testX = testX.reshape((testX.shape[0], 1, testX.shape[1]))\n",
    "    \n",
    "    return trainX, testX"
   ]
  },
  {
   "cell_type": "code",
   "execution_count": 14,
   "metadata": {},
   "outputs": [],
   "source": [
    "def Convolutional1D_model():\n",
    "    \n",
    "    model = Sequential()\n",
    "    model.add(Conv1D(filters=64, kernel_size=1, activation='relu', input_shape=(1, 6)))\n",
    "    model.add(Conv1D(filters=128, kernel_size=1, activation='relu'))\n",
    "    model.add(Dropout(0.5))\n",
    "    model.add(MaxPooling1D(pool_size=1))\n",
    "    model.add(Conv1D(filters=64, kernel_size=1, activation='relu'))\n",
    "    model.add(Conv1D(filters=128, kernel_size=1, activation='relu'))\n",
    "    model.add(Dropout(0.5))\n",
    "    model.add(MaxPooling1D(pool_size=1))\n",
    "    model.add(Flatten())\n",
    "    model.add(Dense(1, activation = 'sigmoid'))\n",
    "    model.compile(loss='binary_crossentropy', metrics = ['acc'], optimizer='adam')\n",
    "    \n",
    "    return model"
   ]
  },
  {
   "cell_type": "code",
   "execution_count": 15,
   "metadata": {},
   "outputs": [
    {
     "name": "stderr",
     "output_type": "stream",
     "text": [
      "C:\\Users\\Seagate\\Anaconda3\\lib\\site-packages\\ipykernel_launcher.py:14: FutureWarning:\n",
      "\n",
      "Sorting because non-concatenation axis is not aligned. A future version\n",
      "of pandas will change to not sort by default.\n",
      "\n",
      "To accept the future behavior, pass 'sort=False'.\n",
      "\n",
      "To retain the current behavior and silence the warning, pass 'sort=True'.\n",
      "\n",
      "\n"
     ]
    }
   ],
   "source": [
    "df_feature_0 = pd.read_csv('part-00000-e6120af0-10c2-4248-97c4-81baf4304e5c-c000.csv')\n",
    "df_label = pd.read_csv('part-00000-e9445087-aa0a-433b-a7f6-7f4c19d78ad6-c000.csv')\n",
    "\n",
    "df = Labeling_dataset(df_feature_0, df_label)\n"
   ]
  },
  {
   "cell_type": "code",
   "execution_count": 16,
   "metadata": {},
   "outputs": [],
   "source": [
    "data, data_label = reduce_feature_dimensionality_extraction(df)\n",
    "data = standardscaler(data)\n",
    "trainX, testX, trainY, testY = train_test_split(data, data_label)\n",
    "trainX_knn, testX_knn, trainY_knn, testY_knn = train_test_split(data, data_label)\n",
    "trainX, testX = reshape(trainX, testX)"
   ]
  },
  {
   "cell_type": "code",
   "execution_count": 17,
   "metadata": {},
   "outputs": [
    {
     "name": "stdout",
     "output_type": "stream",
     "text": [
      "WARNING:tensorflow:From C:\\Users\\Seagate\\Anaconda3\\lib\\site-packages\\tensorflow\\python\\framework\\op_def_library.py:263: colocate_with (from tensorflow.python.framework.ops) is deprecated and will be removed in a future version.\n",
      "Instructions for updating:\n",
      "Colocations handled automatically by placer.\n",
      "WARNING:tensorflow:From C:\\Users\\Seagate\\Anaconda3\\lib\\site-packages\\keras\\backend\\tensorflow_backend.py:3445: calling dropout (from tensorflow.python.ops.nn_ops) with keep_prob is deprecated and will be removed in a future version.\n",
      "Instructions for updating:\n",
      "Please use `rate` instead of `keep_prob`. Rate should be set to `rate = 1 - keep_prob`.\n",
      "_________________________________________________________________\n",
      "Layer (type)                 Output Shape              Param #   \n",
      "=================================================================\n",
      "conv1d_1 (Conv1D)            (None, 1, 64)             448       \n",
      "_________________________________________________________________\n",
      "conv1d_2 (Conv1D)            (None, 1, 128)            8320      \n",
      "_________________________________________________________________\n",
      "dropout_1 (Dropout)          (None, 1, 128)            0         \n",
      "_________________________________________________________________\n",
      "max_pooling1d_1 (MaxPooling1 (None, 1, 128)            0         \n",
      "_________________________________________________________________\n",
      "conv1d_3 (Conv1D)            (None, 1, 64)             8256      \n",
      "_________________________________________________________________\n",
      "conv1d_4 (Conv1D)            (None, 1, 128)            8320      \n",
      "_________________________________________________________________\n",
      "dropout_2 (Dropout)          (None, 1, 128)            0         \n",
      "_________________________________________________________________\n",
      "max_pooling1d_2 (MaxPooling1 (None, 1, 128)            0         \n",
      "_________________________________________________________________\n",
      "flatten_1 (Flatten)          (None, 128)               0         \n",
      "_________________________________________________________________\n",
      "dense_1 (Dense)              (None, 1)                 129       \n",
      "=================================================================\n",
      "Total params: 25,473\n",
      "Trainable params: 25,473\n",
      "Non-trainable params: 0\n",
      "_________________________________________________________________\n"
     ]
    }
   ],
   "source": [
    "model_conv = Convolutional1D_model()\n",
    "model_conv.summary()"
   ]
  },
  {
   "cell_type": "code",
   "execution_count": 18,
   "metadata": {},
   "outputs": [
    {
     "name": "stdout",
     "output_type": "stream",
     "text": [
      "WARNING:tensorflow:From C:\\Users\\Seagate\\Anaconda3\\lib\\site-packages\\tensorflow\\python\\ops\\math_ops.py:3066: to_int32 (from tensorflow.python.ops.math_ops) is deprecated and will be removed in a future version.\n",
      "Instructions for updating:\n",
      "Use tf.cast instead.\n",
      "Train on 1081081 samples, validate on 532473 samples\n",
      "Epoch 1/100\n",
      " - 24s - loss: 0.6131 - acc: 0.6962 - val_loss: 0.6093 - val_acc: 0.6989\n",
      "Epoch 2/100\n",
      " - 22s - loss: 0.6100 - acc: 0.6986 - val_loss: 0.6086 - val_acc: 0.6996\n",
      "Epoch 3/100\n",
      " - 23s - loss: 0.6093 - acc: 0.6990 - val_loss: 0.6085 - val_acc: 0.6997\n",
      "Epoch 4/100\n",
      " - 22s - loss: 0.6090 - acc: 0.6994 - val_loss: 0.6082 - val_acc: 0.7001\n",
      "Epoch 5/100\n",
      " - 22s - loss: 0.6089 - acc: 0.6996 - val_loss: 0.6080 - val_acc: 0.7003\n",
      "Epoch 6/100\n",
      " - 22s - loss: 0.6087 - acc: 0.6998 - val_loss: 0.6080 - val_acc: 0.7004\n",
      "Epoch 7/100\n",
      " - 22s - loss: 0.6085 - acc: 0.7000 - val_loss: 0.6082 - val_acc: 0.6991\n",
      "Epoch 8/100\n",
      " - 22s - loss: 0.6084 - acc: 0.7001 - val_loss: 0.6077 - val_acc: 0.7006\n",
      "Epoch 9/100\n",
      " - 22s - loss: 0.6083 - acc: 0.7002 - val_loss: 0.6077 - val_acc: 0.7005\n",
      "Epoch 10/100\n",
      " - 22s - loss: 0.6082 - acc: 0.7001 - val_loss: 0.6076 - val_acc: 0.7003\n",
      "Epoch 11/100\n",
      " - 22s - loss: 0.6081 - acc: 0.7004 - val_loss: 0.6076 - val_acc: 0.7004\n",
      "Epoch 12/100\n",
      " - 22s - loss: 0.6080 - acc: 0.7004 - val_loss: 0.6076 - val_acc: 0.7007\n",
      "Epoch 13/100\n",
      " - 23s - loss: 0.6079 - acc: 0.7003 - val_loss: 0.6074 - val_acc: 0.7007\n",
      "Epoch 14/100\n",
      " - 22s - loss: 0.6080 - acc: 0.7003 - val_loss: 0.6076 - val_acc: 0.7004\n",
      "Epoch 15/100\n",
      " - 23s - loss: 0.6078 - acc: 0.7005 - val_loss: 0.6075 - val_acc: 0.7007\n",
      "Epoch 16/100\n",
      " - 23s - loss: 0.6077 - acc: 0.7006 - val_loss: 0.6072 - val_acc: 0.7009\n",
      "Epoch 17/100\n",
      " - 23s - loss: 0.6077 - acc: 0.7005 - val_loss: 0.6071 - val_acc: 0.7010\n",
      "Epoch 18/100\n",
      " - 23s - loss: 0.6076 - acc: 0.7007 - val_loss: 0.6070 - val_acc: 0.7009\n",
      "Epoch 19/100\n",
      " - 23s - loss: 0.6075 - acc: 0.7008 - val_loss: 0.6072 - val_acc: 0.7005\n",
      "Epoch 20/100\n",
      " - 24s - loss: 0.6074 - acc: 0.7007 - val_loss: 0.6069 - val_acc: 0.7010\n",
      "Epoch 21/100\n",
      " - 23s - loss: 0.6074 - acc: 0.7008 - val_loss: 0.6068 - val_acc: 0.7012\n",
      "Epoch 22/100\n",
      " - 24s - loss: 0.6073 - acc: 0.7008 - val_loss: 0.6067 - val_acc: 0.7011\n",
      "Epoch 23/100\n",
      " - 24s - loss: 0.6072 - acc: 0.7009 - val_loss: 0.6065 - val_acc: 0.7013\n",
      "Epoch 24/100\n",
      " - 24s - loss: 0.6072 - acc: 0.7010 - val_loss: 0.6064 - val_acc: 0.7013\n",
      "Epoch 25/100\n",
      " - 25s - loss: 0.6070 - acc: 0.7011 - val_loss: 0.6064 - val_acc: 0.7015\n",
      "Epoch 26/100\n",
      " - 24s - loss: 0.6067 - acc: 0.7012 - val_loss: 0.6058 - val_acc: 0.7012\n",
      "Epoch 27/100\n",
      " - 25s - loss: 0.6059 - acc: 0.7010 - val_loss: 0.6048 - val_acc: 0.7013\n",
      "Epoch 28/100\n",
      " - 25s - loss: 0.6034 - acc: 0.7012 - val_loss: 0.6044 - val_acc: 0.7014\n",
      "Epoch 29/100\n",
      " - 25s - loss: 0.6004 - acc: 0.7020 - val_loss: 0.5959 - val_acc: 0.7052\n",
      "Epoch 30/100\n",
      " - 25s - loss: 0.5985 - acc: 0.7040 - val_loss: 0.5948 - val_acc: 0.7077\n",
      "Epoch 31/100\n",
      " - 24s - loss: 0.5976 - acc: 0.7053 - val_loss: 0.5952 - val_acc: 0.7100\n",
      "Epoch 32/100\n",
      " - 25s - loss: 0.5968 - acc: 0.7058 - val_loss: 0.5967 - val_acc: 0.7070\n",
      "Epoch 33/100\n",
      " - 25s - loss: 0.5959 - acc: 0.7066 - val_loss: 0.5942 - val_acc: 0.7065\n",
      "Epoch 34/100\n",
      " - 25s - loss: 0.5955 - acc: 0.7068 - val_loss: 0.5928 - val_acc: 0.7098\n",
      "Epoch 35/100\n",
      " - 25s - loss: 0.5952 - acc: 0.7072 - val_loss: 0.5907 - val_acc: 0.7101\n",
      "Epoch 36/100\n",
      " - 26s - loss: 0.5948 - acc: 0.7074 - val_loss: 0.5909 - val_acc: 0.7096\n",
      "Epoch 37/100\n",
      " - 26s - loss: 0.5946 - acc: 0.7075 - val_loss: 0.5894 - val_acc: 0.7104\n",
      "Epoch 38/100\n",
      " - 25s - loss: 0.5943 - acc: 0.7075 - val_loss: 0.5899 - val_acc: 0.7096\n",
      "Epoch 39/100\n",
      " - 27s - loss: 0.5942 - acc: 0.7076 - val_loss: 0.5906 - val_acc: 0.7095\n",
      "Epoch 40/100\n",
      " - 26s - loss: 0.5941 - acc: 0.7078 - val_loss: 0.5916 - val_acc: 0.7107\n",
      "Epoch 41/100\n",
      " - 26s - loss: 0.5938 - acc: 0.7078 - val_loss: 0.5907 - val_acc: 0.7081\n",
      "Epoch 42/100\n",
      " - 26s - loss: 0.5932 - acc: 0.7079 - val_loss: 0.5907 - val_acc: 0.7082\n",
      "Epoch 43/100\n",
      " - 27s - loss: 0.5934 - acc: 0.7081 - val_loss: 0.5896 - val_acc: 0.7097\n",
      "Epoch 44/100\n",
      " - 26s - loss: 0.5930 - acc: 0.7083 - val_loss: 0.5882 - val_acc: 0.7112\n",
      "Epoch 45/100\n",
      " - 28s - loss: 0.5926 - acc: 0.7084 - val_loss: 0.5912 - val_acc: 0.7081\n",
      "Epoch 46/100\n",
      " - 27s - loss: 0.5924 - acc: 0.7087 - val_loss: 0.5898 - val_acc: 0.7099\n",
      "Epoch 47/100\n",
      " - 27s - loss: 0.5923 - acc: 0.7090 - val_loss: 0.5877 - val_acc: 0.7114\n",
      "Epoch 48/100\n",
      " - 27s - loss: 0.5919 - acc: 0.7088 - val_loss: 0.5893 - val_acc: 0.7095\n",
      "Epoch 49/100\n",
      " - 26s - loss: 0.5914 - acc: 0.7090 - val_loss: 0.5878 - val_acc: 0.7118\n",
      "Epoch 50/100\n",
      " - 27s - loss: 0.5905 - acc: 0.7092 - val_loss: 0.5861 - val_acc: 0.7110\n",
      "Epoch 51/100\n",
      " - 27s - loss: 0.5892 - acc: 0.7100 - val_loss: 0.5875 - val_acc: 0.7127\n",
      "Epoch 52/100\n",
      " - 28s - loss: 0.5879 - acc: 0.7106 - val_loss: 0.5863 - val_acc: 0.7116\n",
      "Epoch 53/100\n",
      " - 27s - loss: 0.5868 - acc: 0.7116 - val_loss: 0.5873 - val_acc: 0.7114\n",
      "Epoch 54/100\n",
      " - 28s - loss: 0.5865 - acc: 0.7119 - val_loss: 0.5819 - val_acc: 0.7149\n",
      "Epoch 55/100\n",
      " - 27s - loss: 0.5862 - acc: 0.7119 - val_loss: 0.5832 - val_acc: 0.7140\n",
      "Epoch 56/100\n",
      " - 27s - loss: 0.5860 - acc: 0.7123 - val_loss: 0.5836 - val_acc: 0.7130\n",
      "Epoch 57/100\n",
      " - 27s - loss: 0.5856 - acc: 0.7130 - val_loss: 0.5827 - val_acc: 0.7159\n",
      "Epoch 58/100\n",
      " - 27s - loss: 0.5854 - acc: 0.7125 - val_loss: 0.5840 - val_acc: 0.7134\n",
      "Epoch 59/100\n",
      " - 27s - loss: 0.5851 - acc: 0.7128 - val_loss: 0.5832 - val_acc: 0.7140\n",
      "Epoch 60/100\n",
      " - 28s - loss: 0.5849 - acc: 0.7131 - val_loss: 0.5802 - val_acc: 0.7156\n",
      "Epoch 61/100\n",
      " - 28s - loss: 0.5846 - acc: 0.7131 - val_loss: 0.5823 - val_acc: 0.7147\n",
      "Epoch 62/100\n",
      " - 27s - loss: 0.5846 - acc: 0.7132 - val_loss: 0.5829 - val_acc: 0.7152\n",
      "Epoch 63/100\n",
      " - 28s - loss: 0.5843 - acc: 0.7134 - val_loss: 0.5816 - val_acc: 0.7144\n",
      "Epoch 64/100\n",
      " - 27s - loss: 0.5842 - acc: 0.7133 - val_loss: 0.5825 - val_acc: 0.7138\n",
      "Epoch 65/100\n",
      " - 28s - loss: 0.5839 - acc: 0.7138 - val_loss: 0.5842 - val_acc: 0.7155\n",
      "Epoch 66/100\n",
      " - 28s - loss: 0.5838 - acc: 0.7140 - val_loss: 0.5848 - val_acc: 0.7159\n",
      "Epoch 67/100\n",
      " - 28s - loss: 0.5837 - acc: 0.7138 - val_loss: 0.5838 - val_acc: 0.7141\n",
      "Epoch 68/100\n",
      " - 28s - loss: 0.5835 - acc: 0.7139 - val_loss: 0.5822 - val_acc: 0.7160\n",
      "Epoch 69/100\n",
      " - 28s - loss: 0.5832 - acc: 0.7140 - val_loss: 0.5844 - val_acc: 0.7152\n",
      "Epoch 70/100\n",
      " - 28s - loss: 0.5833 - acc: 0.7140 - val_loss: 0.5832 - val_acc: 0.7155\n",
      "Epoch 71/100\n",
      " - 29s - loss: 0.5834 - acc: 0.7137 - val_loss: 0.5813 - val_acc: 0.7143\n",
      "Epoch 72/100\n",
      " - 28s - loss: 0.5832 - acc: 0.7140 - val_loss: 0.5837 - val_acc: 0.7153\n",
      "Epoch 73/100\n",
      " - 29s - loss: 0.5832 - acc: 0.7139 - val_loss: 0.5874 - val_acc: 0.7127\n",
      "Epoch 74/100\n",
      " - 28s - loss: 0.5831 - acc: 0.7139 - val_loss: 0.5827 - val_acc: 0.7152\n",
      "Epoch 75/100\n",
      " - 29s - loss: 0.5830 - acc: 0.7141 - val_loss: 0.5816 - val_acc: 0.7153\n",
      "Epoch 76/100\n",
      " - 28s - loss: 0.5828 - acc: 0.7142 - val_loss: 0.5877 - val_acc: 0.7144\n",
      "Epoch 77/100\n",
      " - 29s - loss: 0.5827 - acc: 0.7144 - val_loss: 0.5850 - val_acc: 0.7161\n",
      "Epoch 78/100\n",
      " - 29s - loss: 0.5829 - acc: 0.7141 - val_loss: 0.5814 - val_acc: 0.7155\n",
      "Epoch 79/100\n",
      " - 30s - loss: 0.5827 - acc: 0.7143 - val_loss: 0.5847 - val_acc: 0.7157\n",
      "Epoch 80/100\n",
      " - 29s - loss: 0.5828 - acc: 0.7144 - val_loss: 0.5838 - val_acc: 0.7162\n",
      "Epoch 81/100\n",
      " - 30s - loss: 0.5827 - acc: 0.7144 - val_loss: 0.5829 - val_acc: 0.7154\n",
      "Epoch 82/100\n",
      " - 29s - loss: 0.5825 - acc: 0.7143 - val_loss: 0.5845 - val_acc: 0.7126\n",
      "Epoch 83/100\n",
      " - 30s - loss: 0.5826 - acc: 0.7143 - val_loss: 0.5838 - val_acc: 0.7134\n",
      "Epoch 84/100\n",
      " - 30s - loss: 0.5826 - acc: 0.7144 - val_loss: 0.5834 - val_acc: 0.7145\n",
      "Epoch 85/100\n",
      " - 30s - loss: 0.5824 - acc: 0.7144 - val_loss: 0.5815 - val_acc: 0.7155\n",
      "Epoch 86/100\n",
      " - 30s - loss: 0.5823 - acc: 0.7145 - val_loss: 0.5845 - val_acc: 0.7147\n",
      "Epoch 87/100\n",
      " - 30s - loss: 0.5823 - acc: 0.7143 - val_loss: 0.5831 - val_acc: 0.7140\n",
      "Epoch 88/100\n",
      " - 30s - loss: 0.5824 - acc: 0.7146 - val_loss: 0.5852 - val_acc: 0.7155\n",
      "Epoch 89/100\n",
      " - 31s - loss: 0.5823 - acc: 0.7146 - val_loss: 0.5885 - val_acc: 0.7162\n",
      "Epoch 90/100\n",
      " - 30s - loss: 0.5823 - acc: 0.7147 - val_loss: 0.5851 - val_acc: 0.7141\n",
      "Epoch 91/100\n",
      " - 31s - loss: 0.5823 - acc: 0.7146 - val_loss: 0.5835 - val_acc: 0.7130\n",
      "Epoch 92/100\n",
      " - 31s - loss: 0.5822 - acc: 0.7145 - val_loss: 0.5815 - val_acc: 0.7142\n",
      "Epoch 93/100\n",
      " - 31s - loss: 0.5822 - acc: 0.7143 - val_loss: 0.5837 - val_acc: 0.7162\n",
      "Epoch 94/100\n",
      " - 31s - loss: 0.5819 - acc: 0.7148 - val_loss: 0.5840 - val_acc: 0.7119\n",
      "Epoch 95/100\n",
      " - 32s - loss: 0.5818 - acc: 0.7147 - val_loss: 0.5825 - val_acc: 0.7152\n",
      "Epoch 96/100\n",
      " - 31s - loss: 0.5821 - acc: 0.7146 - val_loss: 0.5846 - val_acc: 0.7144\n",
      "Epoch 97/100\n",
      " - 31s - loss: 0.5820 - acc: 0.7146 - val_loss: 0.5890 - val_acc: 0.7166\n",
      "Epoch 98/100\n",
      " - 31s - loss: 0.5819 - acc: 0.7147 - val_loss: 0.5842 - val_acc: 0.7143\n",
      "Epoch 99/100\n",
      " - 31s - loss: 0.5819 - acc: 0.7147 - val_loss: 0.5861 - val_acc: 0.7156\n",
      "Epoch 100/100\n",
      " - 32s - loss: 0.5820 - acc: 0.7145 - val_loss: 0.5847 - val_acc: 0.7135\n"
     ]
    }
   ],
   "source": [
    "history = model_conv.fit(trainX, trainY, epochs = 100, batch_size=512, validation_data = (testX, testY), verbose=2)"
   ]
  },
  {
   "cell_type": "code",
   "execution_count": 20,
   "metadata": {},
   "outputs": [
    {
     "name": "stdout",
     "output_type": "stream",
     "text": [
      "532473/532473 [==============================] - 23s 43us/step\n"
     ]
    },
    {
     "data": {
      "text/plain": [
       "[0.5846963959827899, 0.7134896980693098]"
      ]
     },
     "execution_count": 20,
     "metadata": {},
     "output_type": "execute_result"
    }
   ],
   "source": [
    "model_conv.evaluate(testX, testY)"
   ]
  },
  {
   "cell_type": "code",
   "execution_count": 21,
   "metadata": {},
   "outputs": [
    {
     "data": {
      "image/png": "[encoded data removed]",
      "text/plain": [
       "<Figure size 864x864 with 4 Axes>"
      ]
     },
     "metadata": {
      "needs_background": "light"
     },
     "output_type": "display_data"
    }
   ],
   "source": [
    "plt.figure(figsize=(12,12))\n",
    "plt.subplot(221)\n",
    "plt.plot(history.history['loss'])\n",
    "plt.title('Loss')\n",
    "plt.grid()\n",
    "plt.subplot(222)\n",
    "plt.plot(history.history['acc'])\n",
    "plt.title('Accuracy')\n",
    "plt.grid()\n",
    "plt.subplot(223)\n",
    "plt.plot(history.history['val_loss'])\n",
    "plt.title('val_Loss')\n",
    "plt.grid()\n",
    "plt.subplot(224)\n",
    "plt.plot(history.history['val_acc'])\n",
    "plt.title('val_Accuracy')\n",
    "plt.grid()"
   ]
  },
  {
   "cell_type": "code",
   "execution_count": null,
   "metadata": {},
   "outputs": [],
   "source": []
  }
 ],
 "metadata": {
  "kernelspec": {
   "display_name": "Python 3",
   "language": "python",
   "name": "python3"
  },
  "language_info": {
   "codemirror_mode": {
    "name": "ipython",
    "version": 3
   },
   "file_extension": ".py",
   "mimetype": "text/x-python",
   "name": "python",
   "nbconvert_exporter": "python",
   "pygments_lexer": "ipython3",
   "version": "3.7.3"
  }
 },
 "nbformat": 4,
 "nbformat_minor": 2
}
