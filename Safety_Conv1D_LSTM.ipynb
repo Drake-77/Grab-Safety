{
 "cells": [
  {
   "cell_type": "code",
   "execution_count": 71,
   "metadata": {},
   "outputs": [],
   "source": [
    "import pandas as pd\n",
    "import os\n",
    "import numpy as np \n",
    "import seaborn as sns\n",
    "import plotly.graph_objs as go\n",
    "from plotly.offline import download_plotlyjs, init_notebook_mode, plot, iplot\n",
    "import sys\n",
    "import cufflinks as cf\n",
    "import matplotlib.pyplot as plt\n",
    "import re\n",
    "from keras.models import Sequential\n",
    "from keras.layers import Dense\n",
    "from keras.layers import LSTM\n",
    "from keras.layers import Conv1D, MaxPooling1D\n",
    "from keras.layers import TimeDistributed\n",
    "from sklearn.neighbors import KNeighborsClassifier\n",
    "from sklearn.preprocessing import MinMaxScaler\n",
    "from sklearn.preprocessing import StandardScaler\n",
    "from sklearn.decomposition import PCA\n",
    "from sklearn.metrics import mean_squared_error\n",
    "from keras.layers import Dropout\n",
    "from keras.layers import Flatten\n",
    "from sklearn import metrics"
   ]
  },
  {
   "cell_type": "code",
   "execution_count": 6,
   "metadata": {},
   "outputs": [
    {
     "data": {
      "text/html": [
       "        <script type=\"text/javascript\">\n",
       "        window.PlotlyConfig = {MathJaxConfig: 'local'};\n",
       "        if (window.MathJax) {MathJax.Hub.Config({SVG: {font: \"STIX-Web\"}});}\n",
       "        if (typeof require !== 'undefined') {\n",
       "        require.undef(\"plotly\");\n",
       "        requirejs.config({\n",
       "            paths: {\n",
       "                'plotly': ['https://cdn.plot.ly/plotly-latest.min']\n",
       "            }\n",
       "        });\n",
       "        require(['plotly'], function(Plotly) {\n",
       "            window._Plotly = Plotly;\n",
       "        });\n",
       "        }\n",
       "        </script>\n",
       "        "
      ]
     },
     "metadata": {},
     "output_type": "display_data"
    },
    {
     "data": {
      "text/html": [
       "        <script type=\"text/javascript\">\n",
       "        window.PlotlyConfig = {MathJaxConfig: 'local'};\n",
       "        if (window.MathJax) {MathJax.Hub.Config({SVG: {font: \"STIX-Web\"}});}\n",
       "        if (typeof require !== 'undefined') {\n",
       "        require.undef(\"plotly\");\n",
       "        requirejs.config({\n",
       "            paths: {\n",
       "                'plotly': ['https://cdn.plot.ly/plotly-latest.min']\n",
       "            }\n",
       "        });\n",
       "        require(['plotly'], function(Plotly) {\n",
       "            window._Plotly = Plotly;\n",
       "        });\n",
       "        }\n",
       "        </script>\n",
       "        "
      ]
     },
     "metadata": {},
     "output_type": "display_data"
    }
   ],
   "source": [
    "# For Notebooks\n",
    "init_notebook_mode(connected=True)\n",
    "# For offline use\n",
    "cf.go_offline(connected=True)\n",
    "\n",
    "#--NotebookApp.iopub_msg_rate_limit = 500"
   ]
  },
  {
   "cell_type": "code",
   "execution_count": 7,
   "metadata": {},
   "outputs": [],
   "source": [
    "path = 'C:\\\\Users\\\\Seagate\\\\Documents\\\\Python Scripts\\\\Codes\\\\Koh\\\\Grab\\\\Data\\\\safety\\\\features'\n",
    "os.chdir(path)"
   ]
  },
  {
   "cell_type": "code",
   "execution_count": 8,
   "metadata": {},
   "outputs": [],
   "source": [
    "def list_files(prefix):\n",
    "    files = []\n",
    "    regex = re.compile(prefix + '.*') #String matching\n",
    "    for file in os.listdir(): #Extract all file in the directroy\n",
    "        if regex.match(file): #Match the file based on the regex\n",
    "            if file[-4:] == '.csv': #Ensure it is in csv format\n",
    "                files.append(file) #Append the file to files\n",
    "                \n",
    "    return files"
   ]
  },
  {
   "cell_type": "code",
   "execution_count": 9,
   "metadata": {},
   "outputs": [],
   "source": [
    "def concat(files):\n",
    "    dflist = []\n",
    "    for file in files:\n",
    "        df = pd.read_csv(file, sep=',', header = 0)\n",
    "        dflist.append(df)\n",
    "\n",
    "    concatdf = pd.concat(dflist, axis = 0, ignore_index = True)\n",
    "    \n",
    "    return concatdf"
   ]
  },
  {
   "cell_type": "code",
   "execution_count": 10,
   "metadata": {},
   "outputs": [],
   "source": [
    "# df_feature_0 = pd.read_csv('part-00000-e6120af0-10c2-4248-97c4-81baf4304e5c-c000.csv')\n",
    "# df_label = pd.read_csv('part-00000-e9445087-aa0a-433b-a7f6-7f4c19d78ad6-c000.csv')"
   ]
  },
  {
   "cell_type": "code",
   "execution_count": 11,
   "metadata": {},
   "outputs": [],
   "source": [
    "# df_label_u = df_label[df_label['bookingID']==1202590843006]\n",
    "# df_label_c = df_label_u['label'].values\n",
    "# df_label_c[0]\n",
    "# df_feature_0_final = df_feature_0.copy()\n",
    "# df_feature_0_final['label'] = np.where(df_feature_0_copy['bookingID'] == 274877907034, df_label_c[0], 'NaN')"
   ]
  },
  {
   "cell_type": "code",
   "execution_count": 12,
   "metadata": {},
   "outputs": [],
   "source": [
    "def Labeling_dataset(df_feature_0, df_label):\n",
    "    \n",
    "    booking_unique = df_feature_0['bookingID'].unique().tolist()\n",
    "    df_feature_0_copy = df_feature_0.copy()\n",
    "    df = pd.DataFrame(columns = df_feature_0_copy.columns)\n",
    "\n",
    "    for i in booking_unique:\n",
    "        df_label_unique = df_label[df_label['bookingID']==i]\n",
    "        df_label_value = df_label_unique['label'].values\n",
    "\n",
    "        df_feature = df_feature_0_copy[df_feature_0_copy['bookingID']==i]\n",
    "        df_feature['label'] = df_label_value[0]\n",
    "\n",
    "        df = pd.concat([df, df_feature])\n",
    "\n",
    "    df = df[['bookingID', 'Accuracy', 'Bearing', 'Speed', 'acceleration_x', 'acceleration_y',\n",
    "                         'acceleration_z', 'gyro_x', 'gyro_y', 'gyro_z', 'second', 'label']]\n",
    "\n",
    "    df = df.sort_index()\n",
    "\n",
    "    return df\n",
    "#df.to_csv('Feature_Extracted.csv')"
   ]
  },
  {
   "cell_type": "code",
   "execution_count": 13,
   "metadata": {},
   "outputs": [],
   "source": [
    "def feature_extraction(df):\n",
    "    \n",
    "    df_feature = df.iloc[:, 1:11]\n",
    "    data = df_feature.values\n",
    "    data_label = df.label.values\n",
    "    \n",
    "    return data, data_label"
   ]
  },
  {
   "cell_type": "code",
   "execution_count": 14,
   "metadata": {},
   "outputs": [],
   "source": [
    "def reduce_feature_dimensionality_extraction(df):\n",
    "    \n",
    "    # Reduce Dimensionality of acceleration and Gyro\n",
    "    df_feature = df.iloc[:, 1:11]\n",
    "    df_feature_acc = df.iloc[:, 4:7]\n",
    "    df_feature_gyro = df.iloc[:, 7:10]\n",
    "\n",
    "    pca = PCA(n_components = 1)\n",
    "    pca.fit(df_feature_acc)\n",
    "    data_acc = pca.transform(df_feature_acc)\n",
    "\n",
    "    pca = PCA(n_components = 1)\n",
    "    pca.fit(df_feature_gyro)\n",
    "    data_gy = pca.transform(df_feature_gyro)\n",
    "\n",
    "    df_feature['Acc_pca'] = data_acc\n",
    "    df_feature['Gyro_pca'] = data_gy\n",
    "\n",
    "    df_feature_new = df_feature.drop(['acceleration_x', 'acceleration_y', 'acceleration_z', 'gyro_x', 'gyro_y', 'gyro_z'], axis = 1)\n",
    "    \n",
    "    data = df_feature_new.values\n",
    "    data_label = df.label.values\n",
    "    \n",
    "    return data, data_label"
   ]
  },
  {
   "cell_type": "code",
   "execution_count": 15,
   "metadata": {},
   "outputs": [],
   "source": [
    "np.random.seed(42)"
   ]
  },
  {
   "cell_type": "code",
   "execution_count": 16,
   "metadata": {},
   "outputs": [],
   "source": [
    "def standardscaler(data):\n",
    "    \n",
    "    sc = StandardScaler() # StandardScaler lib\n",
    "    data = sc.fit_transform(data) # fit & transform data based on standard scaler\n",
    "    \n",
    "    return data"
   ]
  },
  {
   "cell_type": "code",
   "execution_count": 17,
   "metadata": {},
   "outputs": [],
   "source": [
    "def MinMaxscaler(data):\n",
    "    \n",
    "    M_sc = MinMaxScaler() # StandardScaler lib\n",
    "    data = M_sc.fit_transform(data) # fit & transform data based on standard scaler\n",
    "    \n",
    "    return data"
   ]
  },
  {
   "cell_type": "code",
   "execution_count": 18,
   "metadata": {},
   "outputs": [],
   "source": [
    "def train_test_split(data, data_label):\n",
    "\n",
    "    train_size = int(len(data) * 0.67)\n",
    "    test_size = len(data) - train_size\n",
    "    train, test = data[0:train_size,:], data[train_size:len(data),:]\n",
    "    #print(len(train), len(test))\n",
    "\n",
    "    train_size_label = int(len(data_label) * 0.67)\n",
    "    test_size_label = len(data_label) - train_size_label\n",
    "    train_label, test_label = data_label[0:train_size_label], data_label[train_size_label:len(data_label)]\n",
    "    #print(len(train_label), len(test_label))\n",
    "    \n",
    "    return train, test, train_label, test_label"
   ]
  },
  {
   "cell_type": "code",
   "execution_count": 101,
   "metadata": {},
   "outputs": [],
   "source": [
    "def reshape(trainX, testX):\n",
    "    \n",
    "    # reshape input to be [samples, time steps, features]\n",
    "    trainX = trainX.reshape((trainX.shape[0], 1, trainX.shape[1]))\n",
    "    testX = testX.reshape((testX.shape[0], 1, testX.shape[1]))\n",
    "    \n",
    "    return trainX, testX"
   ]
  },
  {
   "cell_type": "code",
   "execution_count": 20,
   "metadata": {},
   "outputs": [],
   "source": [
    "def LSTM_model():\n",
    "    \n",
    "    model = Sequential()\n",
    "    model.add(LSTM(50, activation = 'relu', input_shape=(1, 6), return_sequences=True))\n",
    "    model.add(Dropout(0.2))\n",
    "    model.add(LSTM(20, activation = 'relu', return_sequences=True))\n",
    "    model.add(Dropout(0.2))\n",
    "    model.add(LSTM(10, activation = 'relu', return_sequences=True))\n",
    "    model.add(Dropout(0.2))\n",
    "    model.add(Flatten())\n",
    "    model.add(Dense(1, activation = 'sigmoid'))\n",
    "    model.compile(loss='binary_crossentropy', metrics = ['acc'], optimizer='adam')\n",
    "    \n",
    "    return model"
   ]
  },
  {
   "cell_type": "code",
   "execution_count": 21,
   "metadata": {},
   "outputs": [],
   "source": [
    "def Dense_model():\n",
    "    \n",
    "    model = Sequential()\n",
    "    model.add(Dense(50, activation = 'relu', input_shape=(1, 6)))\n",
    "    model.add(Dense(20, activation = 'relu'))\n",
    "    model.add(Dense(10, activation = 'relu'))\n",
    "    model.add(Dropout(0.5))\n",
    "    model.add(Dense(50, activation = 'relu', input_shape=(1, 6)))\n",
    "    model.add(Dense(20, activation = 'relu'))\n",
    "    model.add(Dense(10, activation = 'relu'))\n",
    "    model.add(Flatten())\n",
    "    model.add(Dense(1, activation = 'sigmoid'))\n",
    "    model.compile(loss='binary_crossentropy', metrics = ['acc'], optimizer='adam')\n",
    "    \n",
    "    return model"
   ]
  },
  {
   "cell_type": "code",
   "execution_count": 22,
   "metadata": {},
   "outputs": [],
   "source": [
    "def knn(number_of_neighbor, trainX, trainY, testX):\n",
    "    knn = KNeighborsClassifier(n_neighbors= number_of_neighbor)\n",
    "    knn.fit(trainX, trainY)\n",
    "    y_pred = knn.predict(testX)\n",
    "    \n",
    "    return y_pred"
   ]
  },
  {
   "cell_type": "code",
   "execution_count": 28,
   "metadata": {},
   "outputs": [],
   "source": [
    "def Convolutional1D_model():\n",
    "    \n",
    "    model = Sequential()\n",
    "    model.add(Conv1D(filters=64, kernel_size=1, activation='relu', input_shape=(1, 6)))\n",
    "    model.add(Conv1D(filters=128, kernel_size=1, activation='relu'))\n",
    "    model.add(Dropout(0.5))\n",
    "    model.add(MaxPooling1D(pool_size=1))\n",
    "    model.add(Conv1D(filters=64, kernel_size=1, activation='relu'))\n",
    "    model.add(Conv1D(filters=128, kernel_size=1, activation='relu'))\n",
    "    model.add(Dropout(0.5))\n",
    "    model.add(MaxPooling1D(pool_size=1))\n",
    "    model.add(Flatten())\n",
    "    model.add(Dense(1, activation = 'sigmoid'))\n",
    "    model.compile(loss='binary_crossentropy', metrics = ['acc'], optimizer='adam')\n",
    "    \n",
    "    return model"
   ]
  },
  {
   "cell_type": "code",
   "execution_count": 105,
   "metadata": {},
   "outputs": [],
   "source": [
    "def Convolutional1D_LSTM_model():\n",
    "    model = Sequential()\n",
    "    model.add(Conv1D(filters=64, kernel_size=1, activation='relu', input_shape=(1, 6)))\n",
    "    model.add(Conv1D(filters=128, kernel_size=1, activation='relu'))\n",
    "    model.add(Dropout(0.5))\n",
    "    model.add(MaxPooling1D(pool_size=1))\n",
    "    #model.add(Flatten())\n",
    "    model.add(LSTM(50, activation = 'relu', return_sequences=True))\n",
    "    model.add(Dropout(0.2))\n",
    "    model.add(LSTM(20, activation = 'relu', return_sequences=True))\n",
    "    model.add(Dropout(0.2))\n",
    "    model.add(Dense(100, activation = 'relu'))\n",
    "    model.add(Dense(10, activation = 'relu'))\n",
    "    model.add(Flatten())\n",
    "    model.add(Dense(1, activation = 'sigmoid'))\n",
    "    model.compile(loss='binary_crossentropy', metrics = ['acc'], optimizer='adam')\n",
    "    \n",
    "    return model"
   ]
  },
  {
   "cell_type": "code",
   "execution_count": 24,
   "metadata": {},
   "outputs": [
    {
     "name": "stderr",
     "output_type": "stream",
     "text": [
      "C:\\Users\\Seagate\\Anaconda3\\lib\\site-packages\\ipykernel_launcher.py:14: FutureWarning:\n",
      "\n",
      "Sorting because non-concatenation axis is not aligned. A future version\n",
      "of pandas will change to not sort by default.\n",
      "\n",
      "To accept the future behavior, pass 'sort=False'.\n",
      "\n",
      "To retain the current behavior and silence the warning, pass 'sort=True'.\n",
      "\n",
      "\n"
     ]
    }
   ],
   "source": [
    "df_feature_0 = pd.read_csv('part-00000-e6120af0-10c2-4248-97c4-81baf4304e5c-c000.csv')\n",
    "df_label = pd.read_csv('part-00000-e9445087-aa0a-433b-a7f6-7f4c19d78ad6-c000.csv')\n",
    "\n",
    "df = Labeling_dataset(df_feature_0, df_label)\n"
   ]
  },
  {
   "cell_type": "code",
   "execution_count": 102,
   "metadata": {},
   "outputs": [],
   "source": [
    "data, data_label = reduce_feature_dimensionality_extraction(df)\n",
    "data = standardscaler(data)\n",
    "trainX, testX, trainY, testY = train_test_split(data, data_label)\n",
    "trainX_knn, testX_knn, trainY_knn, testY_knn = train_test_split(data, data_label)\n",
    "trainX, testX = reshape(trainX, testX)"
   ]
  },
  {
   "cell_type": "code",
   "execution_count": 106,
   "metadata": {},
   "outputs": [
    {
     "name": "stdout",
     "output_type": "stream",
     "text": [
      "_________________________________________________________________\n",
      "Layer (type)                 Output Shape              Param #   \n",
      "=================================================================\n",
      "conv1d_134 (Conv1D)          (None, 1, 64)             448       \n",
      "_________________________________________________________________\n",
      "conv1d_135 (Conv1D)          (None, 1, 128)            8320      \n",
      "_________________________________________________________________\n",
      "dropout_174 (Dropout)        (None, 1, 128)            0         \n",
      "_________________________________________________________________\n",
      "max_pooling1d_66 (MaxPooling (None, 1, 128)            0         \n",
      "_________________________________________________________________\n",
      "lstm_95 (LSTM)               (None, 1, 50)             35800     \n",
      "_________________________________________________________________\n",
      "dropout_175 (Dropout)        (None, 1, 50)             0         \n",
      "_________________________________________________________________\n",
      "lstm_96 (LSTM)               (None, 1, 20)             5680      \n",
      "_________________________________________________________________\n",
      "dropout_176 (Dropout)        (None, 1, 20)             0         \n",
      "_________________________________________________________________\n",
      "dense_236 (Dense)            (None, 1, 100)            2100      \n",
      "_________________________________________________________________\n",
      "dense_237 (Dense)            (None, 1, 10)             1010      \n",
      "_________________________________________________________________\n",
      "flatten_88 (Flatten)         (None, 10)                0         \n",
      "_________________________________________________________________\n",
      "dense_238 (Dense)            (None, 1)                 11        \n",
      "=================================================================\n",
      "Total params: 53,369\n",
      "Trainable params: 53,369\n",
      "Non-trainable params: 0\n",
      "_________________________________________________________________\n"
     ]
    }
   ],
   "source": [
    "model_conv = Convolutional1D_model()\n",
    "model_LSTM = LSTM_model()\n",
    "model_Dense = Dense_model()\n",
    "model_comb = Convolutional1D_LSTM_model()\n",
    "#model_conv.summary()\n",
    "#model_LSTM.summary()\n",
    "#model_Dense.summary()\n",
    "model_comb.summary()"
   ]
  },
  {
   "cell_type": "code",
   "execution_count": 107,
   "metadata": {},
   "outputs": [
    {
     "name": "stdout",
     "output_type": "stream",
     "text": [
      "Train on 1081081 samples, validate on 532473 samples\n",
      "Epoch 1/100\n",
      " - 77s - loss: 0.6126 - acc: 0.6962 - val_loss: 0.6096 - val_acc: 0.6989\n",
      "Epoch 2/100\n",
      " - 62s - loss: 0.6097 - acc: 0.6983 - val_loss: 0.6091 - val_acc: 0.6993\n",
      "Epoch 3/100\n",
      " - 58s - loss: 0.6092 - acc: 0.6989 - val_loss: 0.6084 - val_acc: 0.6995\n",
      "Epoch 4/100\n",
      " - 59s - loss: 0.6087 - acc: 0.6995 - val_loss: 0.6084 - val_acc: 0.6999\n",
      "Epoch 5/100\n",
      " - 57s - loss: 0.6085 - acc: 0.6997 - val_loss: 0.6079 - val_acc: 0.7001\n",
      "Epoch 6/100\n",
      " - 48s - loss: 0.6084 - acc: 0.7000 - val_loss: 0.6081 - val_acc: 0.7000\n",
      "Epoch 7/100\n",
      " - 48s - loss: 0.6082 - acc: 0.7002 - val_loss: 0.6077 - val_acc: 0.7007\n",
      "Epoch 8/100\n",
      " - 50s - loss: 0.6080 - acc: 0.7004 - val_loss: 0.6075 - val_acc: 0.7005\n",
      "Epoch 9/100\n",
      " - 58s - loss: 0.6079 - acc: 0.7005 - val_loss: 0.6075 - val_acc: 0.7008\n",
      "Epoch 10/100\n",
      " - 58s - loss: 0.6078 - acc: 0.7006 - val_loss: 0.6076 - val_acc: 0.7008\n",
      "Epoch 11/100\n",
      " - 58s - loss: 0.6078 - acc: 0.7006 - val_loss: 0.6073 - val_acc: 0.7009\n",
      "Epoch 12/100\n",
      " - 57s - loss: 0.6076 - acc: 0.7007 - val_loss: 0.6074 - val_acc: 0.7010\n",
      "Epoch 13/100\n",
      " - 57s - loss: 0.6076 - acc: 0.7007 - val_loss: 0.6073 - val_acc: 0.7011\n",
      "Epoch 14/100\n",
      " - 57s - loss: 0.6075 - acc: 0.7008 - val_loss: 0.6071 - val_acc: 0.7013\n",
      "Epoch 15/100\n",
      " - 58s - loss: 0.6074 - acc: 0.7010 - val_loss: 0.6070 - val_acc: 0.7011\n",
      "Epoch 16/100\n",
      " - 57s - loss: 0.6073 - acc: 0.7009 - val_loss: 0.6070 - val_acc: 0.7013\n",
      "Epoch 17/100\n",
      " - 57s - loss: 0.6073 - acc: 0.7010 - val_loss: 0.6071 - val_acc: 0.7012\n",
      "Epoch 18/100\n",
      " - 58s - loss: 0.6072 - acc: 0.7010 - val_loss: 0.6070 - val_acc: 0.7012\n",
      "Epoch 19/100\n",
      " - 57s - loss: 0.6072 - acc: 0.7011 - val_loss: 0.6069 - val_acc: 0.7011\n",
      "Epoch 20/100\n",
      " - 57s - loss: 0.6072 - acc: 0.7011 - val_loss: 0.6067 - val_acc: 0.7013\n",
      "Epoch 21/100\n",
      " - 57s - loss: 0.6071 - acc: 0.7011 - val_loss: 0.6067 - val_acc: 0.7013\n",
      "Epoch 22/100\n",
      " - 57s - loss: 0.6071 - acc: 0.7011 - val_loss: 0.6071 - val_acc: 0.7017\n",
      "Epoch 23/100\n",
      " - 57s - loss: 0.6071 - acc: 0.7012 - val_loss: 0.6065 - val_acc: 0.7017\n",
      "Epoch 24/100\n",
      " - 57s - loss: 0.6070 - acc: 0.7011 - val_loss: 0.6064 - val_acc: 0.7017\n",
      "Epoch 25/100\n",
      " - 58s - loss: 0.6069 - acc: 0.7013 - val_loss: 0.6065 - val_acc: 0.7014\n",
      "Epoch 26/100\n",
      " - 59s - loss: 0.6068 - acc: 0.7012 - val_loss: 0.6067 - val_acc: 0.7016\n",
      "Epoch 27/100\n",
      " - 59s - loss: 0.6068 - acc: 0.7013 - val_loss: 0.6062 - val_acc: 0.7017\n",
      "Epoch 28/100\n",
      " - 57s - loss: 0.6066 - acc: 0.7015 - val_loss: 0.6063 - val_acc: 0.7014\n",
      "Epoch 29/100\n",
      " - 57s - loss: 0.6065 - acc: 0.7015 - val_loss: 0.6057 - val_acc: 0.7018\n",
      "Epoch 30/100\n",
      " - 59s - loss: 0.6061 - acc: 0.7014 - val_loss: 0.6045 - val_acc: 0.7019\n",
      "Epoch 31/100\n",
      " - 61s - loss: 0.6045 - acc: 0.7015 - val_loss: 0.6013 - val_acc: 0.7019\n",
      "Epoch 32/100\n",
      " - 60s - loss: 0.6010 - acc: 0.7026 - val_loss: 0.5962 - val_acc: 0.7063\n",
      "Epoch 33/100\n",
      " - 59s - loss: 0.5983 - acc: 0.7048 - val_loss: 0.5964 - val_acc: 0.7056\n",
      "Epoch 34/100\n",
      " - 60s - loss: 0.5968 - acc: 0.7063 - val_loss: 0.5951 - val_acc: 0.7074\n",
      "Epoch 35/100\n",
      " - 59s - loss: 0.5962 - acc: 0.7066 - val_loss: 0.5936 - val_acc: 0.7084\n",
      "Epoch 36/100\n",
      " - 59s - loss: 0.5952 - acc: 0.7073 - val_loss: 0.5919 - val_acc: 0.7099\n",
      "Epoch 37/100\n",
      " - 58s - loss: 0.5944 - acc: 0.7077 - val_loss: 0.5909 - val_acc: 0.7096\n",
      "Epoch 38/100\n",
      " - 58s - loss: 0.5936 - acc: 0.7081 - val_loss: 0.5902 - val_acc: 0.7105\n",
      "Epoch 39/100\n",
      " - 59s - loss: 0.5930 - acc: 0.7083 - val_loss: 0.5898 - val_acc: 0.7097\n",
      "Epoch 40/100\n",
      " - 59s - loss: 0.5917 - acc: 0.7087 - val_loss: 0.5934 - val_acc: 0.7085\n",
      "Epoch 41/100\n",
      " - 59s - loss: 0.5905 - acc: 0.7097 - val_loss: 0.5884 - val_acc: 0.7113\n",
      "Epoch 42/100\n",
      " - 59s - loss: 0.5894 - acc: 0.7101 - val_loss: 0.5876 - val_acc: 0.7110\n",
      "Epoch 43/100\n",
      " - 59s - loss: 0.5886 - acc: 0.7109 - val_loss: 0.5853 - val_acc: 0.7128\n",
      "Epoch 44/100\n",
      " - 58s - loss: 0.5881 - acc: 0.7110 - val_loss: 0.5860 - val_acc: 0.7126\n",
      "Epoch 45/100\n",
      " - 60s - loss: 0.5876 - acc: 0.7115 - val_loss: 0.5833 - val_acc: 0.7140\n",
      "Epoch 46/100\n",
      " - 59s - loss: 0.5873 - acc: 0.7116 - val_loss: 0.5875 - val_acc: 0.7089\n",
      "Epoch 47/100\n",
      " - 59s - loss: 0.5867 - acc: 0.7122 - val_loss: 0.5828 - val_acc: 0.7144\n",
      "Epoch 48/100\n",
      " - 59s - loss: 0.5862 - acc: 0.7124 - val_loss: 0.5836 - val_acc: 0.7134\n",
      "Epoch 49/100\n",
      " - 59s - loss: 0.5860 - acc: 0.7123 - val_loss: 0.5845 - val_acc: 0.7139\n",
      "Epoch 50/100\n",
      " - 59s - loss: 0.5856 - acc: 0.7127 - val_loss: 0.5857 - val_acc: 0.7115\n",
      "Epoch 51/100\n",
      " - 60s - loss: 0.5853 - acc: 0.7127 - val_loss: 0.5834 - val_acc: 0.7158\n",
      "Epoch 52/100\n",
      " - 59s - loss: 0.5851 - acc: 0.7129 - val_loss: 0.5843 - val_acc: 0.7148\n",
      "Epoch 53/100\n",
      " - 59s - loss: 0.5850 - acc: 0.7132 - val_loss: 0.5850 - val_acc: 0.7117\n",
      "Epoch 54/100\n",
      " - 53s - loss: 0.5849 - acc: 0.7133 - val_loss: 0.5826 - val_acc: 0.7146\n",
      "Epoch 55/100\n",
      " - 49s - loss: 0.5846 - acc: 0.7130 - val_loss: 0.5824 - val_acc: 0.7156\n",
      "Epoch 56/100\n",
      " - 50s - loss: 0.5844 - acc: 0.7134 - val_loss: 0.5817 - val_acc: 0.7160\n",
      "Epoch 57/100\n",
      " - 52s - loss: 0.5840 - acc: 0.7135 - val_loss: 0.5823 - val_acc: 0.7135\n",
      "Epoch 58/100\n",
      " - 53s - loss: 0.5839 - acc: 0.7137 - val_loss: 0.5836 - val_acc: 0.7144\n",
      "Epoch 59/100\n",
      " - 56s - loss: 0.5839 - acc: 0.7137 - val_loss: 0.5821 - val_acc: 0.7147\n",
      "Epoch 60/100\n",
      " - 56s - loss: 0.5838 - acc: 0.7138 - val_loss: 0.5814 - val_acc: 0.7164\n",
      "Epoch 61/100\n",
      " - 57s - loss: 0.5838 - acc: 0.7135 - val_loss: 0.5826 - val_acc: 0.7136\n",
      "Epoch 62/100\n",
      " - 56s - loss: 0.5833 - acc: 0.7142 - val_loss: 0.5786 - val_acc: 0.7171\n",
      "Epoch 63/100\n",
      " - 57s - loss: 0.5833 - acc: 0.7140 - val_loss: 0.5843 - val_acc: 0.7135\n",
      "Epoch 64/100\n",
      " - 57s - loss: 0.5832 - acc: 0.7138 - val_loss: 0.5816 - val_acc: 0.7144\n",
      "Epoch 65/100\n",
      " - 56s - loss: 0.5830 - acc: 0.7145 - val_loss: 0.5807 - val_acc: 0.7155\n",
      "Epoch 66/100\n",
      " - 56s - loss: 0.5827 - acc: 0.7141 - val_loss: 0.5787 - val_acc: 0.7172\n",
      "Epoch 67/100\n",
      " - 57s - loss: 0.5828 - acc: 0.7143 - val_loss: 0.5810 - val_acc: 0.7141\n",
      "Epoch 68/100\n",
      " - 57s - loss: 0.5827 - acc: 0.7144 - val_loss: 0.5828 - val_acc: 0.7132\n",
      "Epoch 69/100\n",
      " - 57s - loss: 0.5827 - acc: 0.7143 - val_loss: 0.5838 - val_acc: 0.7139\n",
      "Epoch 70/100\n",
      " - 57s - loss: 0.5824 - acc: 0.7146 - val_loss: 0.5795 - val_acc: 0.7166\n",
      "Epoch 71/100\n",
      " - 58s - loss: 0.5825 - acc: 0.7143 - val_loss: 0.5822 - val_acc: 0.7144\n",
      "Epoch 72/100\n",
      " - 57s - loss: 0.5822 - acc: 0.7147 - val_loss: 0.5820 - val_acc: 0.7155\n",
      "Epoch 73/100\n",
      " - 56s - loss: 0.5824 - acc: 0.7146 - val_loss: 0.5806 - val_acc: 0.7164\n",
      "Epoch 74/100\n",
      " - 61s - loss: 0.5821 - acc: 0.7147 - val_loss: 0.5798 - val_acc: 0.7162\n",
      "Epoch 75/100\n",
      " - 58s - loss: 0.5823 - acc: 0.7145 - val_loss: 0.5797 - val_acc: 0.7158\n",
      "Epoch 76/100\n",
      " - 58s - loss: 0.5820 - acc: 0.7149 - val_loss: 0.5809 - val_acc: 0.7150\n",
      "Epoch 77/100\n",
      " - 59s - loss: 0.5821 - acc: 0.7149 - val_loss: 0.5857 - val_acc: 0.7124\n",
      "Epoch 78/100\n",
      " - 59s - loss: 0.5818 - acc: 0.7147 - val_loss: 0.5824 - val_acc: 0.7153\n",
      "Epoch 79/100\n",
      " - 58s - loss: 0.5818 - acc: 0.7150 - val_loss: 0.5806 - val_acc: 0.7150\n",
      "Epoch 80/100\n",
      " - 59s - loss: 0.5817 - acc: 0.7151 - val_loss: 0.5791 - val_acc: 0.7167\n",
      "Epoch 81/100\n",
      " - 59s - loss: 0.5817 - acc: 0.7150 - val_loss: 0.5812 - val_acc: 0.7160\n",
      "Epoch 82/100\n",
      " - 57s - loss: 0.5815 - acc: 0.7150 - val_loss: 0.5805 - val_acc: 0.7149\n",
      "Epoch 83/100\n",
      " - 57s - loss: 0.5814 - acc: 0.7152 - val_loss: 0.5791 - val_acc: 0.7171\n",
      "Epoch 84/100\n",
      " - 57s - loss: 0.5811 - acc: 0.7154 - val_loss: 0.5811 - val_acc: 0.7168\n",
      "Epoch 85/100\n",
      " - 57s - loss: 0.5815 - acc: 0.7152 - val_loss: 0.5789 - val_acc: 0.7165\n",
      "Epoch 86/100\n",
      " - 56s - loss: 0.5813 - acc: 0.7152 - val_loss: 0.5794 - val_acc: 0.7162\n",
      "Epoch 87/100\n",
      " - 58s - loss: 0.5811 - acc: 0.7155 - val_loss: 0.5793 - val_acc: 0.7167\n",
      "Epoch 88/100\n",
      " - 59s - loss: 0.5811 - acc: 0.7154 - val_loss: 0.5802 - val_acc: 0.7144\n",
      "Epoch 89/100\n",
      " - 58s - loss: 0.5811 - acc: 0.7154 - val_loss: 0.5812 - val_acc: 0.7141\n",
      "Epoch 90/100\n",
      " - 59s - loss: 0.5809 - acc: 0.7155 - val_loss: 0.5792 - val_acc: 0.7178\n",
      "Epoch 91/100\n",
      " - 61s - loss: 0.5812 - acc: 0.7154 - val_loss: 0.5792 - val_acc: 0.7160\n",
      "Epoch 92/100\n",
      " - 59s - loss: 0.5809 - acc: 0.7154 - val_loss: 0.5809 - val_acc: 0.7160\n",
      "Epoch 93/100\n",
      " - 59s - loss: 0.5808 - acc: 0.7156 - val_loss: 0.5789 - val_acc: 0.7169\n",
      "Epoch 94/100\n",
      " - 59s - loss: 0.5809 - acc: 0.7153 - val_loss: 0.5808 - val_acc: 0.7150\n",
      "Epoch 95/100\n",
      " - 59s - loss: 0.5809 - acc: 0.7154 - val_loss: 0.5809 - val_acc: 0.7140\n",
      "Epoch 96/100\n",
      " - 61s - loss: 0.5808 - acc: 0.7153 - val_loss: 0.5789 - val_acc: 0.7165\n",
      "Epoch 97/100\n",
      " - 60s - loss: 0.5808 - acc: 0.7154 - val_loss: 0.5780 - val_acc: 0.7161\n",
      "Epoch 98/100\n",
      " - 62s - loss: 0.5805 - acc: 0.7155 - val_loss: 0.5784 - val_acc: 0.7173\n",
      "Epoch 99/100\n",
      " - 62s - loss: 0.5805 - acc: 0.7156 - val_loss: 0.5787 - val_acc: 0.7168\n",
      "Epoch 100/100\n",
      " - 61s - loss: 0.5806 - acc: 0.7157 - val_loss: 0.5801 - val_acc: 0.7151\n"
     ]
    }
   ],
   "source": [
    "history = model_comb.fit(trainX, trainY, epochs = 100, batch_size=512, validation_data = (testX, testY), verbose=2)"
   ]
  },
  {
   "cell_type": "code",
   "execution_count": 108,
   "metadata": {},
   "outputs": [
    {
     "name": "stdout",
     "output_type": "stream",
     "text": [
      "532473/532473 [==============================] - 41s 77us/step\n"
     ]
    },
    {
     "data": {
      "text/plain": [
       "[0.5801173211952086, 0.715069120874717]"
      ]
     },
     "execution_count": 108,
     "metadata": {},
     "output_type": "execute_result"
    }
   ],
   "source": [
    "model_comb.evaluate(testX, testY)"
   ]
  },
  {
   "cell_type": "code",
   "execution_count": 109,
   "metadata": {},
   "outputs": [
    {
     "data": {
      "image/png": "[encoded data removed]",
      "text/plain": [
       "<Figure size 864x864 with 4 Axes>"
      ]
     },
     "metadata": {
      "needs_background": "light"
     },
     "output_type": "display_data"
    }
   ],
   "source": [
    "plt.figure(figsize=(12,12))\n",
    "plt.subplot(221)\n",
    "plt.plot(history.history['loss'])\n",
    "plt.title('Loss')\n",
    "plt.grid()\n",
    "plt.subplot(222)\n",
    "plt.plot(history.history['acc'])\n",
    "plt.title('Accuracy')\n",
    "plt.grid()\n",
    "plt.subplot(223)\n",
    "plt.plot(history.history['val_loss'])\n",
    "plt.title('val_Loss')\n",
    "plt.grid()\n",
    "plt.subplot(224)\n",
    "plt.plot(history.history['val_acc'])\n",
    "plt.title('val_Accuracy')\n",
    "plt.grid()"
   ]
  },
  {
   "cell_type": "code",
   "execution_count": null,
   "metadata": {},
   "outputs": [],
   "source": []
  }
 ],
 "metadata": {
  "kernelspec": {
   "display_name": "Python 3",
   "language": "python",
   "name": "python3"
  },
  "language_info": {
   "codemirror_mode": {
    "name": "ipython",
    "version": 3
   },
   "file_extension": ".py",
   "mimetype": "text/x-python",
   "name": "python",
   "nbconvert_exporter": "python",
   "pygments_lexer": "ipython3",
   "version": "3.7.3"
  }
 },
 "nbformat": 4,
 "nbformat_minor": 2
}
