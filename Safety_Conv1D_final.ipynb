{
 "cells": [
  {
   "cell_type": "code",
   "execution_count": 1,
   "metadata": {},
   "outputs": [
    {
     "name": "stderr",
     "output_type": "stream",
     "text": [
      "Using TensorFlow backend.\n"
     ]
    }
   ],
   "source": [
    "import pandas as pd\n",
    "import os\n",
    "import numpy as np \n",
    "import seaborn as sns\n",
    "import plotly.graph_objs as go\n",
    "from plotly.offline import download_plotlyjs, init_notebook_mode, plot, iplot\n",
    "import sys\n",
    "import cufflinks as cf\n",
    "import matplotlib.pyplot as plt\n",
    "import re\n",
    "from keras.models import Sequential\n",
    "from keras.layers import Dense\n",
    "from keras.layers import LSTM\n",
    "from keras.layers import Conv1D, MaxPooling1D\n",
    "from keras.utils import plot_model\n",
    "from keras.optimizers import SGD\n",
    "from sklearn.neighbors import KNeighborsClassifier\n",
    "from sklearn.preprocessing import MinMaxScaler\n",
    "from sklearn.preprocessing import StandardScaler\n",
    "from sklearn.decomposition import PCA\n",
    "from sklearn.metrics import mean_squared_error\n",
    "from keras.layers import Dropout\n",
    "from keras.layers import Flatten\n",
    "from sklearn import metrics"
   ]
  },
  {
   "cell_type": "code",
   "execution_count": 2,
   "metadata": {},
   "outputs": [
    {
     "data": {
      "text/html": [
       "<script type=\"text/javascript\">window.PlotlyConfig = {MathJaxConfig: 'local'};</script><script type=\"text/javascript\">if (window.MathJax) {MathJax.Hub.Config({SVG: {font: \"STIX-Web\"}});}</script><script>requirejs.config({paths: { 'plotly': ['https://cdn.plot.ly/plotly-latest.min']},});if(!window._Plotly) {require(['plotly'],function(plotly) {window._Plotly=plotly;});}</script>"
      ],
      "text/vnd.plotly.v1+html": [
       "<script type=\"text/javascript\">window.PlotlyConfig = {MathJaxConfig: 'local'};</script><script type=\"text/javascript\">if (window.MathJax) {MathJax.Hub.Config({SVG: {font: \"STIX-Web\"}});}</script><script>requirejs.config({paths: { 'plotly': ['https://cdn.plot.ly/plotly-latest.min']},});if(!window._Plotly) {require(['plotly'],function(plotly) {window._Plotly=plotly;});}</script>"
      ]
     },
     "metadata": {},
     "output_type": "display_data"
    },
    {
     "data": {
      "text/html": [
       "<script type=\"text/javascript\">window.PlotlyConfig = {MathJaxConfig: 'local'};</script><script type=\"text/javascript\">if (window.MathJax) {MathJax.Hub.Config({SVG: {font: \"STIX-Web\"}});}</script><script>requirejs.config({paths: { 'plotly': ['https://cdn.plot.ly/plotly-latest.min']},});if(!window._Plotly) {require(['plotly'],function(plotly) {window._Plotly=plotly;});}</script>"
      ],
      "text/vnd.plotly.v1+html": [
       "<script type=\"text/javascript\">window.PlotlyConfig = {MathJaxConfig: 'local'};</script><script type=\"text/javascript\">if (window.MathJax) {MathJax.Hub.Config({SVG: {font: \"STIX-Web\"}});}</script><script>requirejs.config({paths: { 'plotly': ['https://cdn.plot.ly/plotly-latest.min']},});if(!window._Plotly) {require(['plotly'],function(plotly) {window._Plotly=plotly;});}</script>"
      ]
     },
     "metadata": {},
     "output_type": "display_data"
    }
   ],
   "source": [
    "# For Notebooks\n",
    "init_notebook_mode(connected=True)\n",
    "# For offline use\n",
    "cf.go_offline(connected=True)\n",
    "\n",
    "#--NotebookApp.iopub_msg_rate_limit = 500"
   ]
  },
  {
   "cell_type": "code",
   "execution_count": 4,
   "metadata": {},
   "outputs": [],
   "source": [
    "path = 'C:\\\\Users\\\\tiamk\\\\Documents\\\\Python Scripts\\\\Grab\\\\Data\\\\safety\\\\features'\n",
    "os.chdir(path)"
   ]
  },
  {
   "cell_type": "code",
   "execution_count": 5,
   "metadata": {},
   "outputs": [],
   "source": [
    "def list_files(prefix):\n",
    "    files = []\n",
    "    regex = re.compile(prefix + '.*') #String matching\n",
    "    for file in os.listdir(): #Extract all file in the directroy\n",
    "        if regex.match(file): #Match the file based on the regex\n",
    "            if file[-4:] == '.csv': #Ensure it is in csv format\n",
    "                files.append(file) #Append the file to files\n",
    "                \n",
    "    return files"
   ]
  },
  {
   "cell_type": "code",
   "execution_count": 6,
   "metadata": {},
   "outputs": [],
   "source": [
    "def concat(files):\n",
    "    dflist = []\n",
    "    for file in files:\n",
    "        df = pd.read_csv(file, sep=',', header = 0)\n",
    "        dflist.append(df)\n",
    "\n",
    "    concatdf = pd.concat(dflist, axis = 0, ignore_index = True)\n",
    "    \n",
    "    return concatdf"
   ]
  },
  {
   "cell_type": "code",
   "execution_count": 7,
   "metadata": {},
   "outputs": [],
   "source": [
    "def Labeling_dataset(df_feature_0, df_label):\n",
    "    \n",
    "    booking_unique = df_feature_0['bookingID'].unique().tolist() # Take the unique value and convert to list\n",
    "    df_feature_0_copy = df_feature_0.copy() # Create a copy of the dataframe\n",
    "    df = pd.DataFrame(columns = df_feature_0_copy.columns) # Set the columns of the dataframe\n",
    "\n",
    "    for i in booking_unique:\n",
    "        df_label_unique = df_label[df_label['bookingID']==i] # Extract the label dataframe based on the unique value\n",
    "        df_label_value = df_label_unique['label'].values # Take the label value\n",
    "\n",
    "        df_feature = df_feature_0_copy[df_feature_0_copy['bookingID']==i] # Extract the feature dataframe based on the unique value\n",
    "        df_feature['label'] = df_label_value[0] # Create a label column\n",
    "\n",
    "        df = pd.concat([df, df_feature]) # Concatenate A new dataframe with the label\n",
    "\n",
    "    df = df[['bookingID', 'Accuracy', 'Bearing', 'Speed', 'acceleration_x', 'acceleration_y',\n",
    "                         'acceleration_z', 'gyro_x', 'gyro_y', 'gyro_z', 'second', 'label']] # Rearrange the columns in the new dataframe\n",
    "\n",
    "    df = df.sort_index() # sort according to index\n",
    "\n",
    "    return df\n",
    "#df.to_csv('Feature_Extracted.csv')"
   ]
  },
  {
   "cell_type": "code",
   "execution_count": 8,
   "metadata": {},
   "outputs": [],
   "source": [
    "def feature_extraction(df):\n",
    "    \n",
    "    df_feature = df.iloc[:, 1:11] # Extract certain features from the feature dataframe based on columns\n",
    "    data = df_feature.values # Take the values of the feature dataframe\n",
    "    data_label = df.label.values # Take the values of the label dataframe\n",
    "    \n",
    "    return data, data_label"
   ]
  },
  {
   "cell_type": "code",
   "execution_count": 9,
   "metadata": {},
   "outputs": [],
   "source": [
    "def reduce_feature_dimensionality_extraction(df):\n",
    "    \n",
    "    # Reduce Dimensionality of acceleration and Gyro\n",
    "    df_feature = df.iloc[:, 1:11] # Extract certain features from the feature dataframe based on columns\n",
    "    df_feature_acc = df.iloc[:, 4:7] # Extract acceleration features from the feature dataframe based on columns\n",
    "    df_feature_gyro = df.iloc[:, 7:10] # Extract Gyro features from the feature dataframe based on columns\n",
    "\n",
    "    pca = PCA(n_components = 1) # reduce dimensionality with PCA to 1 components\n",
    "    pca.fit(df_feature_acc)\n",
    "    data_acc = pca.transform(df_feature_acc)\n",
    "\n",
    "    pca = PCA(n_components = 1) # reduce dimensionality with PCA to 1 components\n",
    "    pca.fit(df_feature_gyro)\n",
    "    data_gy = pca.transform(df_feature_gyro)\n",
    "\n",
    "    df_feature['Acc_pca'] = data_acc # Create a new columns for PCA result in the feature dataframe\n",
    "    df_feature['Gyro_pca'] = data_gy # Create a new columns for PCA result in the feature dataframe\n",
    "\n",
    "    df_feature_new = df_feature.drop(['acceleration_x', 'acceleration_y', 'acceleration_z', 'gyro_x', 'gyro_y', 'gyro_z'], axis = 1) #Drop Unneccessary features\n",
    "    \n",
    "    data = df_feature_new.values # Take the values of the feature dataframe\n",
    "    data_label = df.label.values # Take the values of the label dataframe\n",
    "    \n",
    "    return data, data_label"
   ]
  },
  {
   "cell_type": "code",
   "execution_count": 10,
   "metadata": {},
   "outputs": [],
   "source": [
    "# Create reproducibility \n",
    "np.random.seed(42)"
   ]
  },
  {
   "cell_type": "code",
   "execution_count": 11,
   "metadata": {},
   "outputs": [],
   "source": [
    "def standardscaler(data):\n",
    "    \n",
    "    sc = StandardScaler() # StandardScaler lib\n",
    "    data = sc.fit_transform(data) # fit & transform data based on standard scaler\n",
    "    \n",
    "    return data"
   ]
  },
  {
   "cell_type": "code",
   "execution_count": 12,
   "metadata": {},
   "outputs": [],
   "source": [
    "def MinMaxscaler(data):\n",
    "    \n",
    "    M_sc = MinMaxScaler() # MinMaxScaler lib\n",
    "    data = M_sc.fit_transform(data) # fit & transform data based on MinMax scaler\n",
    "    \n",
    "    return data"
   ]
  },
  {
   "cell_type": "code",
   "execution_count": 13,
   "metadata": {},
   "outputs": [],
   "source": [
    "def train_test_split(data, data_label):\n",
    "\n",
    "    train_size = int(len(data) * 0.67) # Create train size data of 67%\n",
    "    test_size = len(data) - train_size # Create test size data of 33%\n",
    "    train, test = data[0:train_size,:], data[train_size:len(data),:] # Split train and test data\n",
    "    #print(len(train), len(test))\n",
    "\n",
    "    train_size_label = int(len(data_label) * 0.67) # Create train size data of 67%\n",
    "    test_size_label = len(data_label) - train_size_label # Create test size data of 33%\n",
    "    train_label, test_label = data_label[0:train_size_label], data_label[train_size_label:len(data_label)] # Split train and test data\n",
    "    #print(len(train_label), len(test_label))\n",
    "    \n",
    "    return train, test, train_label, test_label"
   ]
  },
  {
   "cell_type": "code",
   "execution_count": 14,
   "metadata": {},
   "outputs": [],
   "source": [
    "def reshape(trainX, testX):\n",
    "    \n",
    "    # reshape input to be [samples, time steps, features]\n",
    "    trainX = trainX.reshape((trainX.shape[0], 1, trainX.shape[1])) \n",
    "    testX = testX.reshape((testX.shape[0], 1, testX.shape[1]))\n",
    "    \n",
    "    return trainX, testX"
   ]
  },
  {
   "cell_type": "code",
   "execution_count": 15,
   "metadata": {},
   "outputs": [],
   "source": [
    "def Convolutional1D_model():\n",
    "    \n",
    "    model = Sequential()\n",
    "    model.add(Conv1D(filters=64, kernel_size=1, activation='relu', input_shape=(1, 6)))\n",
    "    model.add(Conv1D(filters=128, kernel_size=1, activation='relu'))\n",
    "    #model.add(Dropout(0.5))\n",
    "    model.add(MaxPooling1D(pool_size=1))\n",
    "    model.add(Conv1D(filters=64, kernel_size=1, activation='relu'))\n",
    "    model.add(Conv1D(filters=128, kernel_size=1, activation='relu'))\n",
    "    #model.add(Dropout(0.5))\n",
    "    model.add(MaxPooling1D(pool_size=1))\n",
    "    model.add(Flatten())\n",
    "    model.add(Dense(1, activation = 'sigmoid'))\n",
    "    model.compile(loss='binary_crossentropy', metrics = ['acc'], optimizer='adam'(lr=0.001))\n",
    "    # lrate = initial_lrate * (1 / (1 + decay * iteration))\n",
    "    \n",
    "    return model"
   ]
  },
  {
   "cell_type": "code",
   "execution_count": 23,
   "metadata": {},
   "outputs": [],
   "source": [
    "def plotting():\n",
    "    plt.figure(figsize=(12,12))\n",
    "\n",
    "    plt.subplot(221)\n",
    "    plt.plot(history.history['loss'])\n",
    "    plt.title('Loss')\n",
    "    plt.xlabel('Epoch')\n",
    "    plt.ylabel('Loss')\n",
    "    plt.grid()\n",
    "\n",
    "    plt.subplot(222)\n",
    "    plt.plot(history.history['acc'])\n",
    "    plt.title('Accuracy')\n",
    "    plt.xlabel('Epoch')\n",
    "    plt.ylabel('Accuracy')\n",
    "    plt.grid()\n",
    "\n",
    "    plt.subplot(223)\n",
    "    plt.plot(history.history['val_loss'])\n",
    "    plt.title('Val_Loss')\n",
    "    plt.xlabel('Epoch')\n",
    "    plt.ylabel('Val_Loss')\n",
    "    plt.grid()\n",
    "\n",
    "    plt.subplot(224)\n",
    "    plt.plot(history.history['val_acc'])\n",
    "    plt.title('Val_Accuracy')\n",
    "    plt.grid()\n",
    "    plt.xlabel('Epoch')\n",
    "    plt.ylabel('Val_Accuracy')\n",
    "    \n",
    "    return plt"
   ]
  },
  {
   "cell_type": "code",
   "execution_count": 16,
   "metadata": {},
   "outputs": [
    {
     "name": "stderr",
     "output_type": "stream",
     "text": [
      "C:\\Users\\tiamk\\AppData\\Local\\Continuum\\anaconda3\\lib\\site-packages\\ipykernel_launcher.py:14: FutureWarning:\n",
      "\n",
      "Sorting because non-concatenation axis is not aligned. A future version\n",
      "of pandas will change to not sort by default.\n",
      "\n",
      "To accept the future behavior, pass 'sort=False'.\n",
      "\n",
      "To retain the current behavior and silence the warning, pass 'sort=True'.\n",
      "\n",
      "\n"
     ]
    }
   ],
   "source": [
    "df_feature_0 = pd.read_csv('part-00000-e6120af0-10c2-4248-97c4-81baf4304e5c-c000.csv')\n",
    "df_label = pd.read_csv('part-00000-e9445087-aa0a-433b-a7f6-7f4c19d78ad6-c000.csv')\n",
    "\n",
    "df = Labeling_dataset(df_feature_0, df_label)\n"
   ]
  },
  {
   "cell_type": "code",
   "execution_count": 17,
   "metadata": {},
   "outputs": [],
   "source": [
    "data, data_label = reduce_feature_dimensionality_extraction(df)\n",
    "data = standardscaler(data)\n",
    "trainX, testX, trainY, testY = train_test_split(data, data_label)\n",
    "trainX_knn, testX_knn, trainY_knn, testY_knn = train_test_split(data, data_label)\n",
    "trainX, testX = reshape(trainX, testX)"
   ]
  },
  {
   "cell_type": "code",
   "execution_count": 18,
   "metadata": {},
   "outputs": [
    {
     "name": "stdout",
     "output_type": "stream",
     "text": [
      "WARNING:tensorflow:From C:\\Users\\tiamk\\AppData\\Local\\Continuum\\anaconda3\\lib\\site-packages\\tensorflow\\python\\framework\\op_def_library.py:263: colocate_with (from tensorflow.python.framework.ops) is deprecated and will be removed in a future version.\n",
      "Instructions for updating:\n",
      "Colocations handled automatically by placer.\n",
      "_________________________________________________________________\n",
      "Layer (type)                 Output Shape              Param #   \n",
      "=================================================================\n",
      "conv1d_1 (Conv1D)            (None, 1, 64)             448       \n",
      "_________________________________________________________________\n",
      "conv1d_2 (Conv1D)            (None, 1, 128)            8320      \n",
      "_________________________________________________________________\n",
      "max_pooling1d_1 (MaxPooling1 (None, 1, 128)            0         \n",
      "_________________________________________________________________\n",
      "conv1d_3 (Conv1D)            (None, 1, 64)             8256      \n",
      "_________________________________________________________________\n",
      "conv1d_4 (Conv1D)            (None, 1, 128)            8320      \n",
      "_________________________________________________________________\n",
      "max_pooling1d_2 (MaxPooling1 (None, 1, 128)            0         \n",
      "_________________________________________________________________\n",
      "flatten_1 (Flatten)          (None, 128)               0         \n",
      "_________________________________________________________________\n",
      "dense_1 (Dense)              (None, 1)                 129       \n",
      "=================================================================\n",
      "Total params: 25,473\n",
      "Trainable params: 25,473\n",
      "Non-trainable params: 0\n",
      "_________________________________________________________________\n"
     ]
    }
   ],
   "source": [
    "model_conv = Convolutional1D_model()\n",
    "model_conv.summary()"
   ]
  },
  {
   "cell_type": "code",
   "execution_count": 19,
   "metadata": {},
   "outputs": [
    {
     "name": "stdout",
     "output_type": "stream",
     "text": [
      "WARNING:tensorflow:From C:\\Users\\tiamk\\AppData\\Local\\Continuum\\anaconda3\\lib\\site-packages\\tensorflow\\python\\ops\\math_ops.py:3066: to_int32 (from tensorflow.python.ops.math_ops) is deprecated and will be removed in a future version.\n",
      "Instructions for updating:\n",
      "Use tf.cast instead.\n",
      "Train on 1081081 samples, validate on 532473 samples\n",
      "Epoch 1/150\n",
      " - 42s - loss: 0.6104 - acc: 0.6979 - val_loss: 0.6084 - val_acc: 0.6996\n",
      "Epoch 2/150\n",
      " - 41s - loss: 0.6085 - acc: 0.6998 - val_loss: 0.6080 - val_acc: 0.7002\n",
      "Epoch 3/150\n",
      " - 41s - loss: 0.6080 - acc: 0.7003 - val_loss: 0.6081 - val_acc: 0.7005\n",
      "Epoch 4/150\n",
      " - 41s - loss: 0.6077 - acc: 0.7007 - val_loss: 0.6079 - val_acc: 0.7004\n",
      "Epoch 5/150\n",
      " - 41s - loss: 0.6074 - acc: 0.7008 - val_loss: 0.6075 - val_acc: 0.7007\n",
      "Epoch 6/150\n",
      " - 41s - loss: 0.6071 - acc: 0.7010 - val_loss: 0.6070 - val_acc: 0.7010\n",
      "Epoch 7/150\n",
      " - 41s - loss: 0.6069 - acc: 0.7012 - val_loss: 0.6073 - val_acc: 0.7005\n",
      "Epoch 8/150\n",
      " - 41s - loss: 0.6067 - acc: 0.7015 - val_loss: 0.6068 - val_acc: 0.7014\n",
      "Epoch 9/150\n",
      " - 43s - loss: 0.6065 - acc: 0.7015 - val_loss: 0.6068 - val_acc: 0.7013\n",
      "Epoch 10/150\n",
      " - 41s - loss: 0.6063 - acc: 0.7017 - val_loss: 0.6064 - val_acc: 0.7018\n",
      "Epoch 11/150\n",
      " - 42s - loss: 0.6060 - acc: 0.7018 - val_loss: 0.6064 - val_acc: 0.7016\n",
      "Epoch 12/150\n",
      " - 41s - loss: 0.6059 - acc: 0.7018 - val_loss: 0.6060 - val_acc: 0.7016\n",
      "Epoch 13/150\n",
      " - 41s - loss: 0.6052 - acc: 0.7020 - val_loss: 0.6048 - val_acc: 0.7017\n",
      "Epoch 14/150\n",
      " - 41s - loss: 0.6029 - acc: 0.7022 - val_loss: 0.5990 - val_acc: 0.7022\n",
      "Epoch 15/150\n",
      " - 41s - loss: 0.5968 - acc: 0.7059 - val_loss: 0.5924 - val_acc: 0.7081\n",
      "Epoch 16/150\n",
      " - 41s - loss: 0.5929 - acc: 0.7086 - val_loss: 0.5926 - val_acc: 0.7080\n",
      "Epoch 17/150\n",
      " - 42s - loss: 0.5905 - acc: 0.7099 - val_loss: 0.5936 - val_acc: 0.7073\n",
      "Epoch 18/150\n",
      " - 42s - loss: 0.5895 - acc: 0.7101 - val_loss: 0.5869 - val_acc: 0.7121\n",
      "Epoch 19/150\n",
      " - 42s - loss: 0.5874 - acc: 0.7113 - val_loss: 0.5861 - val_acc: 0.7137\n",
      "Epoch 20/150\n",
      " - 42s - loss: 0.5859 - acc: 0.7125 - val_loss: 0.5968 - val_acc: 0.7033\n",
      "Epoch 21/150\n",
      " - 42s - loss: 0.5849 - acc: 0.7134 - val_loss: 0.5852 - val_acc: 0.7132\n",
      "Epoch 22/150\n",
      " - 42s - loss: 0.5843 - acc: 0.7140 - val_loss: 0.5851 - val_acc: 0.7138\n",
      "Epoch 23/150\n",
      " - 42s - loss: 0.5837 - acc: 0.7138 - val_loss: 0.5814 - val_acc: 0.7152\n",
      "Epoch 24/150\n",
      " - 42s - loss: 0.5832 - acc: 0.7147 - val_loss: 0.5827 - val_acc: 0.7142\n",
      "Epoch 25/150\n",
      " - 42s - loss: 0.5829 - acc: 0.7146 - val_loss: 0.5845 - val_acc: 0.7141\n",
      "Epoch 26/150\n",
      " - 42s - loss: 0.5821 - acc: 0.7149 - val_loss: 0.5817 - val_acc: 0.7142\n",
      "Epoch 27/150\n",
      " - 43s - loss: 0.5819 - acc: 0.7153 - val_loss: 0.5828 - val_acc: 0.7146\n",
      "Epoch 28/150\n",
      " - 42s - loss: 0.5815 - acc: 0.7153 - val_loss: 0.5833 - val_acc: 0.7149\n",
      "Epoch 29/150\n",
      " - 42s - loss: 0.5813 - acc: 0.7155 - val_loss: 0.5816 - val_acc: 0.7149\n",
      "Epoch 30/150\n",
      " - 42s - loss: 0.5806 - acc: 0.7161 - val_loss: 0.5814 - val_acc: 0.7152\n",
      "Epoch 31/150\n",
      " - 42s - loss: 0.5808 - acc: 0.7155 - val_loss: 0.5810 - val_acc: 0.7152\n",
      "Epoch 32/150\n",
      " - 42s - loss: 0.5801 - acc: 0.7162 - val_loss: 0.5795 - val_acc: 0.7156\n",
      "Epoch 33/150\n",
      " - 43s - loss: 0.5799 - acc: 0.7159 - val_loss: 0.5853 - val_acc: 0.7132\n",
      "Epoch 34/150\n",
      " - 43s - loss: 0.5800 - acc: 0.7162 - val_loss: 0.5859 - val_acc: 0.7124\n",
      "Epoch 35/150\n",
      " - 43s - loss: 0.5797 - acc: 0.7162 - val_loss: 0.5811 - val_acc: 0.7153\n",
      "Epoch 36/150\n",
      " - 43s - loss: 0.5795 - acc: 0.7163 - val_loss: 0.5819 - val_acc: 0.7143\n",
      "Epoch 37/150\n",
      " - 46s - loss: 0.5795 - acc: 0.7164 - val_loss: 0.5794 - val_acc: 0.7162\n",
      "Epoch 38/150\n",
      " - 45s - loss: 0.5794 - acc: 0.7162 - val_loss: 0.5776 - val_acc: 0.7176\n",
      "Epoch 39/150\n",
      " - 45s - loss: 0.5790 - acc: 0.7166 - val_loss: 0.5789 - val_acc: 0.7173\n",
      "Epoch 40/150\n",
      " - 45s - loss: 0.5790 - acc: 0.7168 - val_loss: 0.5781 - val_acc: 0.7172\n",
      "Epoch 41/150\n",
      " - 52s - loss: 0.5792 - acc: 0.7167 - val_loss: 0.5781 - val_acc: 0.7166\n",
      "Epoch 42/150\n",
      " - 50s - loss: 0.5786 - acc: 0.7170 - val_loss: 0.5783 - val_acc: 0.7174\n",
      "Epoch 43/150\n",
      " - 48s - loss: 0.5783 - acc: 0.7169 - val_loss: 0.5773 - val_acc: 0.7178\n",
      "Epoch 44/150\n",
      " - 48s - loss: 0.5784 - acc: 0.7171 - val_loss: 0.5776 - val_acc: 0.7176\n",
      "Epoch 45/150\n",
      " - 46s - loss: 0.5780 - acc: 0.7171 - val_loss: 0.5800 - val_acc: 0.7162\n",
      "Epoch 46/150\n",
      " - 45s - loss: 0.5780 - acc: 0.7173 - val_loss: 0.5778 - val_acc: 0.7176\n",
      "Epoch 47/150\n",
      " - 45s - loss: 0.5781 - acc: 0.7172 - val_loss: 0.5798 - val_acc: 0.7162\n",
      "Epoch 48/150\n",
      " - 46s - loss: 0.5781 - acc: 0.7172 - val_loss: 0.5784 - val_acc: 0.7169\n",
      "Epoch 49/150\n",
      " - 47s - loss: 0.5779 - acc: 0.7174 - val_loss: 0.5791 - val_acc: 0.7173\n",
      "Epoch 50/150\n",
      " - 45s - loss: 0.5775 - acc: 0.7176 - val_loss: 0.5786 - val_acc: 0.7169\n",
      "Epoch 51/150\n",
      " - 47s - loss: 0.5776 - acc: 0.7174 - val_loss: 0.5776 - val_acc: 0.7178\n",
      "Epoch 52/150\n",
      " - 46s - loss: 0.5776 - acc: 0.7177 - val_loss: 0.5789 - val_acc: 0.7169\n",
      "Epoch 53/150\n",
      " - 47s - loss: 0.5773 - acc: 0.7175 - val_loss: 0.5770 - val_acc: 0.7181\n",
      "Epoch 54/150\n",
      " - 46s - loss: 0.5772 - acc: 0.7177 - val_loss: 0.5801 - val_acc: 0.7161\n",
      "Epoch 55/150\n",
      " - 45s - loss: 0.5772 - acc: 0.7176 - val_loss: 0.5763 - val_acc: 0.7184\n",
      "Epoch 56/150\n",
      " - 48s - loss: 0.5771 - acc: 0.7177 - val_loss: 0.5788 - val_acc: 0.7172\n",
      "Epoch 57/150\n",
      " - 45s - loss: 0.5767 - acc: 0.7180 - val_loss: 0.5782 - val_acc: 0.7170\n",
      "Epoch 58/150\n",
      " - 44s - loss: 0.5768 - acc: 0.7181 - val_loss: 0.5775 - val_acc: 0.7178\n",
      "Epoch 59/150\n",
      " - 44s - loss: 0.5768 - acc: 0.7181 - val_loss: 0.5767 - val_acc: 0.7180\n",
      "Epoch 60/150\n",
      " - 44s - loss: 0.5765 - acc: 0.7182 - val_loss: 0.5785 - val_acc: 0.7168\n",
      "Epoch 61/150\n",
      " - 44s - loss: 0.5763 - acc: 0.7184 - val_loss: 0.5790 - val_acc: 0.7170\n",
      "Epoch 62/150\n",
      " - 45s - loss: 0.5763 - acc: 0.7182 - val_loss: 0.5770 - val_acc: 0.7181\n",
      "Epoch 63/150\n",
      " - 45s - loss: 0.5764 - acc: 0.7182 - val_loss: 0.5780 - val_acc: 0.7171\n",
      "Epoch 64/150\n",
      " - 45s - loss: 0.5762 - acc: 0.7183 - val_loss: 0.5770 - val_acc: 0.7177\n",
      "Epoch 65/150\n",
      " - 45s - loss: 0.5761 - acc: 0.7184 - val_loss: 0.5782 - val_acc: 0.7179\n",
      "Epoch 66/150\n",
      " - 45s - loss: 0.5760 - acc: 0.7184 - val_loss: 0.5760 - val_acc: 0.7186\n",
      "Epoch 67/150\n",
      " - 45s - loss: 0.5759 - acc: 0.7186 - val_loss: 0.5795 - val_acc: 0.7173\n",
      "Epoch 68/150\n",
      " - 45s - loss: 0.5756 - acc: 0.7186 - val_loss: 0.5782 - val_acc: 0.7166\n",
      "Epoch 69/150\n",
      " - 45s - loss: 0.5755 - acc: 0.7188 - val_loss: 0.5806 - val_acc: 0.7163\n",
      "Epoch 70/150\n",
      " - 46s - loss: 0.5753 - acc: 0.7189 - val_loss: 0.5765 - val_acc: 0.7183\n",
      "Epoch 71/150\n",
      " - 46s - loss: 0.5753 - acc: 0.7190 - val_loss: 0.5769 - val_acc: 0.7188\n",
      "Epoch 72/150\n",
      " - 46s - loss: 0.5751 - acc: 0.7190 - val_loss: 0.5765 - val_acc: 0.7179\n",
      "Epoch 73/150\n",
      " - 46s - loss: 0.5748 - acc: 0.7193 - val_loss: 0.5790 - val_acc: 0.7172\n",
      "Epoch 74/150\n",
      " - 46s - loss: 0.5747 - acc: 0.7194 - val_loss: 0.5764 - val_acc: 0.7181\n",
      "Epoch 75/150\n",
      " - 46s - loss: 0.5747 - acc: 0.7193 - val_loss: 0.5764 - val_acc: 0.7186\n",
      "Epoch 76/150\n",
      " - 46s - loss: 0.5745 - acc: 0.7195 - val_loss: 0.5756 - val_acc: 0.7187\n",
      "Epoch 77/150\n",
      " - 47s - loss: 0.5743 - acc: 0.7197 - val_loss: 0.5773 - val_acc: 0.7178\n",
      "Epoch 78/150\n",
      " - 47s - loss: 0.5744 - acc: 0.7198 - val_loss: 0.5760 - val_acc: 0.7188\n",
      "Epoch 79/150\n",
      " - 47s - loss: 0.5741 - acc: 0.7198 - val_loss: 0.5758 - val_acc: 0.7184\n",
      "Epoch 80/150\n",
      " - 47s - loss: 0.5740 - acc: 0.7197 - val_loss: 0.5781 - val_acc: 0.7182\n",
      "Epoch 81/150\n",
      " - 48s - loss: 0.5740 - acc: 0.7198 - val_loss: 0.5758 - val_acc: 0.7190\n",
      "Epoch 82/150\n",
      " - 48s - loss: 0.5741 - acc: 0.7198 - val_loss: 0.5757 - val_acc: 0.7189\n",
      "Epoch 83/150\n",
      " - 48s - loss: 0.5739 - acc: 0.7200 - val_loss: 0.5755 - val_acc: 0.7194\n",
      "Epoch 84/150\n",
      " - 48s - loss: 0.5737 - acc: 0.7201 - val_loss: 0.5763 - val_acc: 0.7189\n",
      "Epoch 85/150\n",
      " - 48s - loss: 0.5736 - acc: 0.7200 - val_loss: 0.5755 - val_acc: 0.7189\n",
      "Epoch 86/150\n",
      " - 48s - loss: 0.5736 - acc: 0.7202 - val_loss: 0.5761 - val_acc: 0.7194\n",
      "Epoch 87/150\n",
      " - 48s - loss: 0.5733 - acc: 0.7203 - val_loss: 0.5752 - val_acc: 0.7189\n",
      "Epoch 88/150\n",
      " - 48s - loss: 0.5734 - acc: 0.7202 - val_loss: 0.5769 - val_acc: 0.7187\n",
      "Epoch 89/150\n",
      " - 49s - loss: 0.5735 - acc: 0.7201 - val_loss: 0.5767 - val_acc: 0.7184\n",
      "Epoch 90/150\n",
      " - 50s - loss: 0.5732 - acc: 0.7205 - val_loss: 0.5769 - val_acc: 0.7181\n",
      "Epoch 91/150\n",
      " - 52s - loss: 0.5732 - acc: 0.7205 - val_loss: 0.5747 - val_acc: 0.7203\n",
      "Epoch 92/150\n",
      " - 49s - loss: 0.5729 - acc: 0.7206 - val_loss: 0.5763 - val_acc: 0.7187\n",
      "Epoch 93/150\n",
      " - 49s - loss: 0.5732 - acc: 0.7203 - val_loss: 0.5783 - val_acc: 0.7178\n",
      "Epoch 94/150\n",
      " - 50s - loss: 0.5728 - acc: 0.7206 - val_loss: 0.5762 - val_acc: 0.7193\n",
      "Epoch 95/150\n",
      " - 50s - loss: 0.5728 - acc: 0.7205 - val_loss: 0.5756 - val_acc: 0.7195\n",
      "Epoch 96/150\n",
      " - 50s - loss: 0.5727 - acc: 0.7208 - val_loss: 0.5749 - val_acc: 0.7199\n",
      "Epoch 97/150\n",
      " - 50s - loss: 0.5728 - acc: 0.7207 - val_loss: 0.5751 - val_acc: 0.7189\n",
      "Epoch 98/150\n",
      " - 51s - loss: 0.5728 - acc: 0.7206 - val_loss: 0.5762 - val_acc: 0.7193\n",
      "Epoch 99/150\n",
      " - 51s - loss: 0.5726 - acc: 0.7210 - val_loss: 0.5755 - val_acc: 0.7196\n",
      "Epoch 100/150\n",
      " - 50s - loss: 0.5725 - acc: 0.7208 - val_loss: 0.5749 - val_acc: 0.7195\n",
      "Epoch 101/150\n",
      " - 50s - loss: 0.5723 - acc: 0.7210 - val_loss: 0.5771 - val_acc: 0.7190\n",
      "Epoch 102/150\n",
      " - 51s - loss: 0.5724 - acc: 0.7211 - val_loss: 0.5738 - val_acc: 0.7201\n",
      "Epoch 103/150\n",
      " - 50s - loss: 0.5723 - acc: 0.7211 - val_loss: 0.5750 - val_acc: 0.7197\n",
      "Epoch 104/150\n",
      " - 51s - loss: 0.5723 - acc: 0.7211 - val_loss: 0.5797 - val_acc: 0.7177\n",
      "Epoch 105/150\n",
      " - 51s - loss: 0.5723 - acc: 0.7209 - val_loss: 0.5820 - val_acc: 0.7158\n",
      "Epoch 106/150\n",
      " - 51s - loss: 0.5721 - acc: 0.7211 - val_loss: 0.5747 - val_acc: 0.7195\n",
      "Epoch 107/150\n",
      " - 51s - loss: 0.5719 - acc: 0.7211 - val_loss: 0.5798 - val_acc: 0.7188\n",
      "Epoch 108/150\n",
      " - 52s - loss: 0.5721 - acc: 0.7211 - val_loss: 0.5742 - val_acc: 0.7198\n",
      "Epoch 109/150\n",
      " - 52s - loss: 0.5720 - acc: 0.7213 - val_loss: 0.5748 - val_acc: 0.7199\n",
      "Epoch 110/150\n",
      " - 52s - loss: 0.5719 - acc: 0.7209 - val_loss: 0.5750 - val_acc: 0.7196\n",
      "Epoch 111/150\n",
      " - 56s - loss: 0.5717 - acc: 0.7214 - val_loss: 0.5759 - val_acc: 0.7192\n",
      "Epoch 112/150\n",
      " - 54s - loss: 0.5718 - acc: 0.7213 - val_loss: 0.5761 - val_acc: 0.7196\n",
      "Epoch 113/150\n",
      " - 54s - loss: 0.5715 - acc: 0.7215 - val_loss: 0.5750 - val_acc: 0.7201\n",
      "Epoch 114/150\n",
      " - 57s - loss: 0.5715 - acc: 0.7215 - val_loss: 0.5767 - val_acc: 0.7187\n",
      "Epoch 115/150\n",
      " - 54s - loss: 0.5716 - acc: 0.7214 - val_loss: 0.5782 - val_acc: 0.7183\n",
      "Epoch 116/150\n",
      " - 55s - loss: 0.5716 - acc: 0.7213 - val_loss: 0.5743 - val_acc: 0.7203\n",
      "Epoch 117/150\n",
      " - 54s - loss: 0.5714 - acc: 0.7215 - val_loss: 0.5744 - val_acc: 0.7201\n",
      "Epoch 118/150\n",
      " - 53s - loss: 0.5714 - acc: 0.7216 - val_loss: 0.5767 - val_acc: 0.7189\n",
      "Epoch 119/150\n",
      " - 57s - loss: 0.5713 - acc: 0.7217 - val_loss: 0.5763 - val_acc: 0.7194\n",
      "Epoch 120/150\n",
      " - 56s - loss: 0.5713 - acc: 0.7216 - val_loss: 0.5752 - val_acc: 0.7198\n",
      "Epoch 121/150\n",
      " - 56s - loss: 0.5711 - acc: 0.7219 - val_loss: 0.5768 - val_acc: 0.7189\n",
      "Epoch 122/150\n",
      " - 56s - loss: 0.5713 - acc: 0.7219 - val_loss: 0.5753 - val_acc: 0.7201\n",
      "Epoch 123/150\n",
      " - 59s - loss: 0.5711 - acc: 0.7218 - val_loss: 0.5776 - val_acc: 0.7185\n",
      "Epoch 124/150\n",
      " - 56s - loss: 0.5711 - acc: 0.7217 - val_loss: 0.5757 - val_acc: 0.7197\n",
      "Epoch 125/150\n",
      " - 55s - loss: 0.5708 - acc: 0.7222 - val_loss: 0.5780 - val_acc: 0.7180\n",
      "Epoch 126/150\n",
      " - 54s - loss: 0.5711 - acc: 0.7218 - val_loss: 0.5743 - val_acc: 0.7203\n",
      "Epoch 127/150\n",
      " - 54s - loss: 0.5710 - acc: 0.7218 - val_loss: 0.5757 - val_acc: 0.7200\n",
      "Epoch 128/150\n",
      " - 55s - loss: 0.5708 - acc: 0.7218 - val_loss: 0.5766 - val_acc: 0.7192\n",
      "Epoch 129/150\n",
      " - 55s - loss: 0.5708 - acc: 0.7219 - val_loss: 0.5774 - val_acc: 0.7196\n",
      "Epoch 130/150\n",
      " - 55s - loss: 0.5707 - acc: 0.7219 - val_loss: 0.5742 - val_acc: 0.7198\n",
      "Epoch 131/150\n",
      " - 55s - loss: 0.5706 - acc: 0.7222 - val_loss: 0.5765 - val_acc: 0.7190\n",
      "Epoch 132/150\n",
      " - 56s - loss: 0.5705 - acc: 0.7221 - val_loss: 0.5799 - val_acc: 0.7181\n",
      "Epoch 133/150\n",
      " - 56s - loss: 0.5705 - acc: 0.7222 - val_loss: 0.5741 - val_acc: 0.7204\n",
      "Epoch 134/150\n",
      " - 56s - loss: 0.5705 - acc: 0.7222 - val_loss: 0.5769 - val_acc: 0.7182\n",
      "Epoch 135/150\n",
      " - 56s - loss: 0.5707 - acc: 0.7220 - val_loss: 0.5790 - val_acc: 0.7176\n",
      "Epoch 136/150\n",
      " - 56s - loss: 0.5704 - acc: 0.7220 - val_loss: 0.5729 - val_acc: 0.7208\n",
      "Epoch 137/150\n",
      " - 56s - loss: 0.5705 - acc: 0.7220 - val_loss: 0.5737 - val_acc: 0.7203\n",
      "Epoch 138/150\n",
      " - 57s - loss: 0.5703 - acc: 0.7223 - val_loss: 0.5741 - val_acc: 0.7198\n",
      "Epoch 139/150\n",
      " - 57s - loss: 0.5702 - acc: 0.7222 - val_loss: 0.5772 - val_acc: 0.7194\n",
      "Epoch 140/150\n",
      " - 57s - loss: 0.5705 - acc: 0.7223 - val_loss: 0.5743 - val_acc: 0.7204\n",
      "Epoch 141/150\n",
      " - 57s - loss: 0.5700 - acc: 0.7223 - val_loss: 0.5743 - val_acc: 0.7205\n",
      "Epoch 142/150\n",
      " - 57s - loss: 0.5701 - acc: 0.7222 - val_loss: 0.5737 - val_acc: 0.7205\n",
      "Epoch 143/150\n",
      " - 58s - loss: 0.5700 - acc: 0.7226 - val_loss: 0.5754 - val_acc: 0.7200\n",
      "Epoch 144/150\n",
      " - 57s - loss: 0.5702 - acc: 0.7223 - val_loss: 0.5774 - val_acc: 0.7186\n",
      "Epoch 145/150\n",
      " - 58s - loss: 0.5698 - acc: 0.7226 - val_loss: 0.5744 - val_acc: 0.7202\n",
      "Epoch 146/150\n",
      " - 57s - loss: 0.5697 - acc: 0.7226 - val_loss: 0.5812 - val_acc: 0.7176\n",
      "Epoch 147/150\n",
      " - 57s - loss: 0.5698 - acc: 0.7224 - val_loss: 0.5763 - val_acc: 0.7193\n",
      "Epoch 148/150\n",
      " - 57s - loss: 0.5698 - acc: 0.7225 - val_loss: 0.5747 - val_acc: 0.7198\n",
      "Epoch 149/150\n",
      " - 57s - loss: 0.5695 - acc: 0.7226 - val_loss: 0.5774 - val_acc: 0.7190\n",
      "Epoch 150/150\n",
      " - 58s - loss: 0.5697 - acc: 0.7227 - val_loss: 0.5739 - val_acc: 0.7206\n"
     ]
    }
   ],
   "source": [
    "history = model_conv.fit(trainX, trainY, epochs = 150, batch_size=512, validation_data = (testX, testY), verbose=2)"
   ]
  },
  {
   "cell_type": "code",
   "execution_count": 20,
   "metadata": {},
   "outputs": [
    {
     "name": "stdout",
     "output_type": "stream",
     "text": [
      "532473/532473 [==============================] - 25s 46us/step\n"
     ]
    },
    {
     "data": {
      "text/plain": [
       "[0.5738911518039822, 0.7205830154779604]"
      ]
     },
     "execution_count": 20,
     "metadata": {},
     "output_type": "execute_result"
    }
   ],
   "source": [
    "model_conv.evaluate(testX, testY)"
   ]
  },
  {
   "cell_type": "code",
   "execution_count": 24,
   "metadata": {},
   "outputs": [
    {
     "data": {
      "text/plain": [
       "<module 'matplotlib.pyplot' from 'C:\\\\Users\\\\tiamk\\\\AppData\\\\Local\\\\Continuum\\\\anaconda3\\\\lib\\\\site-packages\\\\matplotlib\\\\pyplot.py'>"
      ]
     },
     "execution_count": 24,
     "metadata": {},
     "output_type": "execute_result"
    },
    {
     "data": {
      "image/png": "[encoded data removed]",
      "text/plain": [
       "<Figure size 864x864 with 4 Axes>"
      ]
     },
     "metadata": {
      "needs_background": "light"
     },
     "output_type": "display_data"
    }
   ],
   "source": [
    "plotting()"
   ]
  },
  {
   "cell_type": "code",
   "execution_count": null,
   "metadata": {},
   "outputs": [],
   "source": []
  }
 ],
 "metadata": {
  "kernelspec": {
   "display_name": "Python 3",
   "language": "python",
   "name": "python3"
  },
  "language_info": {
   "codemirror_mode": {
    "name": "ipython",
    "version": 3
   },
   "file_extension": ".py",
   "mimetype": "text/x-python",
   "name": "python",
   "nbconvert_exporter": "python",
   "pygments_lexer": "ipython3",
   "version": "3.7.1"
  }
 },
 "nbformat": 4,
 "nbformat_minor": 2
}
